{
 "cells": [
  {
   "cell_type": "code",
   "execution_count": 1,
   "metadata": {},
   "outputs": [],
   "source": [
    "import os\n",
    "os.environ[\"CUDA_VISIBLE_DEVICES\"]=\"-1\"\n",
    "import pathlib\n",
    "import numpy as np\n",
    "import pandas as pd\n",
    "\n",
    "from sklearn.model_selection import train_test_split\n",
    "\n",
    "import tensorflow as tf\n",
    "from tensorflow import feature_column\n",
    "import tensorflow.keras.layers as layers"
   ]
  },
  {
   "cell_type": "code",
   "execution_count": 2,
   "metadata": {},
   "outputs": [
    {
     "data": {
      "text/plain": [
       "'2.1.0'"
      ]
     },
     "execution_count": 2,
     "metadata": {},
     "output_type": "execute_result"
    }
   ],
   "source": [
    "tf.__version__"
   ]
  },
  {
   "cell_type": "code",
   "execution_count": null,
   "metadata": {},
   "outputs": [],
   "source": []
  },
  {
   "cell_type": "code",
   "execution_count": 3,
   "metadata": {},
   "outputs": [
    {
     "data": {
      "text/plain": [
       "[]"
      ]
     },
     "execution_count": 3,
     "metadata": {},
     "output_type": "execute_result"
    }
   ],
   "source": [
    "tf.config.experimental.list_physical_devices('GPU')"
   ]
  },
  {
   "cell_type": "code",
   "execution_count": 4,
   "metadata": {},
   "outputs": [
    {
     "data": {
      "text/plain": [
       "66"
      ]
     },
     "execution_count": 4,
     "metadata": {},
     "output_type": "execute_result"
    }
   ],
   "source": [
    "import gc\n",
    "gc.collect()"
   ]
  },
  {
   "cell_type": "markdown",
   "metadata": {},
   "source": [
    "# 加载数据"
   ]
  },
  {
   "cell_type": "code",
   "execution_count": 5,
   "metadata": {},
   "outputs": [],
   "source": [
    "data_root = pathlib.Path('/mnt/data_set/criteo_ctr')\n",
    "data = pd.read_csv(data_root/'sample.csv', delimiter='\\t', header=None, nrows=1e5)"
   ]
  },
  {
   "cell_type": "code",
   "execution_count": 6,
   "metadata": {},
   "outputs": [
    {
     "data": {
      "text/plain": [
       "(100000, 40)"
      ]
     },
     "execution_count": 6,
     "metadata": {},
     "output_type": "execute_result"
    }
   ],
   "source": [
    "data.shape"
   ]
  },
  {
   "cell_type": "code",
   "execution_count": 7,
   "metadata": {},
   "outputs": [
    {
     "name": "stdout",
     "output_type": "stream",
     "text": [
      "dense_feats: :['I1', 'I2', 'I3', 'I4', 'I5', 'I6', 'I7', 'I8', 'I9', 'I10', 'I11', 'I12', 'I13']\n",
      "sparse_feats: ['C1', 'C2', 'C3', 'C4', 'C5', 'C6', 'C7', 'C8', 'C9', 'C10', 'C11', 'C12', 'C13', 'C14', 'C15', 'C16', 'C17', 'C18', 'C19', 'C20', 'C21', 'C22', 'C23', 'C24', 'C25', 'C26']\n"
     ]
    },
    {
     "data": {
      "text/html": [
       "<div>\n",
       "<style scoped>\n",
       "    .dataframe tbody tr th:only-of-type {\n",
       "        vertical-align: middle;\n",
       "    }\n",
       "\n",
       "    .dataframe tbody tr th {\n",
       "        vertical-align: top;\n",
       "    }\n",
       "\n",
       "    .dataframe thead th {\n",
       "        text-align: right;\n",
       "    }\n",
       "</style>\n",
       "<table border=\"1\" class=\"dataframe\">\n",
       "  <thead>\n",
       "    <tr style=\"text-align: right;\">\n",
       "      <th></th>\n",
       "      <th>label</th>\n",
       "      <th>I1</th>\n",
       "      <th>I2</th>\n",
       "      <th>I3</th>\n",
       "      <th>I4</th>\n",
       "      <th>I5</th>\n",
       "      <th>I6</th>\n",
       "      <th>I7</th>\n",
       "      <th>I8</th>\n",
       "      <th>I9</th>\n",
       "      <th>...</th>\n",
       "      <th>C17</th>\n",
       "      <th>C18</th>\n",
       "      <th>C19</th>\n",
       "      <th>C20</th>\n",
       "      <th>C21</th>\n",
       "      <th>C22</th>\n",
       "      <th>C23</th>\n",
       "      <th>C24</th>\n",
       "      <th>C25</th>\n",
       "      <th>C26</th>\n",
       "    </tr>\n",
       "  </thead>\n",
       "  <tbody>\n",
       "    <tr>\n",
       "      <th>0</th>\n",
       "      <td>0</td>\n",
       "      <td>1.0</td>\n",
       "      <td>1</td>\n",
       "      <td>5.0</td>\n",
       "      <td>0.0</td>\n",
       "      <td>1382.0</td>\n",
       "      <td>4.0</td>\n",
       "      <td>15.0</td>\n",
       "      <td>2.0</td>\n",
       "      <td>181.0</td>\n",
       "      <td>...</td>\n",
       "      <td>e5ba7672</td>\n",
       "      <td>f54016b9</td>\n",
       "      <td>21ddcdc9</td>\n",
       "      <td>b1252a9d</td>\n",
       "      <td>07b5194c</td>\n",
       "      <td>NaN</td>\n",
       "      <td>3a171ecb</td>\n",
       "      <td>c5c50484</td>\n",
       "      <td>e8b83407</td>\n",
       "      <td>9727dd16</td>\n",
       "    </tr>\n",
       "    <tr>\n",
       "      <th>1</th>\n",
       "      <td>0</td>\n",
       "      <td>2.0</td>\n",
       "      <td>0</td>\n",
       "      <td>44.0</td>\n",
       "      <td>1.0</td>\n",
       "      <td>102.0</td>\n",
       "      <td>8.0</td>\n",
       "      <td>2.0</td>\n",
       "      <td>2.0</td>\n",
       "      <td>4.0</td>\n",
       "      <td>...</td>\n",
       "      <td>07c540c4</td>\n",
       "      <td>b04e4670</td>\n",
       "      <td>21ddcdc9</td>\n",
       "      <td>5840adea</td>\n",
       "      <td>60f6221e</td>\n",
       "      <td>NaN</td>\n",
       "      <td>3a171ecb</td>\n",
       "      <td>43f13e8b</td>\n",
       "      <td>e8b83407</td>\n",
       "      <td>731c3655</td>\n",
       "    </tr>\n",
       "    <tr>\n",
       "      <th>2</th>\n",
       "      <td>0</td>\n",
       "      <td>2.0</td>\n",
       "      <td>0</td>\n",
       "      <td>1.0</td>\n",
       "      <td>14.0</td>\n",
       "      <td>767.0</td>\n",
       "      <td>89.0</td>\n",
       "      <td>4.0</td>\n",
       "      <td>2.0</td>\n",
       "      <td>245.0</td>\n",
       "      <td>...</td>\n",
       "      <td>8efede7f</td>\n",
       "      <td>3412118d</td>\n",
       "      <td>NaN</td>\n",
       "      <td>NaN</td>\n",
       "      <td>e587c466</td>\n",
       "      <td>ad3062eb</td>\n",
       "      <td>3a171ecb</td>\n",
       "      <td>3b183c5c</td>\n",
       "      <td>NaN</td>\n",
       "      <td>NaN</td>\n",
       "    </tr>\n",
       "    <tr>\n",
       "      <th>3</th>\n",
       "      <td>0</td>\n",
       "      <td>NaN</td>\n",
       "      <td>893</td>\n",
       "      <td>NaN</td>\n",
       "      <td>NaN</td>\n",
       "      <td>4392.0</td>\n",
       "      <td>NaN</td>\n",
       "      <td>0.0</td>\n",
       "      <td>0.0</td>\n",
       "      <td>0.0</td>\n",
       "      <td>...</td>\n",
       "      <td>1e88c74f</td>\n",
       "      <td>74ef3502</td>\n",
       "      <td>NaN</td>\n",
       "      <td>NaN</td>\n",
       "      <td>6b3a5ca6</td>\n",
       "      <td>NaN</td>\n",
       "      <td>3a171ecb</td>\n",
       "      <td>9117a34a</td>\n",
       "      <td>NaN</td>\n",
       "      <td>NaN</td>\n",
       "    </tr>\n",
       "    <tr>\n",
       "      <th>4</th>\n",
       "      <td>0</td>\n",
       "      <td>3.0</td>\n",
       "      <td>-1</td>\n",
       "      <td>NaN</td>\n",
       "      <td>0.0</td>\n",
       "      <td>2.0</td>\n",
       "      <td>0.0</td>\n",
       "      <td>3.0</td>\n",
       "      <td>0.0</td>\n",
       "      <td>0.0</td>\n",
       "      <td>...</td>\n",
       "      <td>1e88c74f</td>\n",
       "      <td>26b3c7a7</td>\n",
       "      <td>NaN</td>\n",
       "      <td>NaN</td>\n",
       "      <td>21c9516a</td>\n",
       "      <td>NaN</td>\n",
       "      <td>32c7478e</td>\n",
       "      <td>b34f3128</td>\n",
       "      <td>NaN</td>\n",
       "      <td>NaN</td>\n",
       "    </tr>\n",
       "  </tbody>\n",
       "</table>\n",
       "<p>5 rows × 40 columns</p>\n",
       "</div>"
      ],
      "text/plain": [
       "   label   I1   I2    I3    I4      I5    I6    I7   I8     I9  ...       C17  \\\n",
       "0      0  1.0    1   5.0   0.0  1382.0   4.0  15.0  2.0  181.0  ...  e5ba7672   \n",
       "1      0  2.0    0  44.0   1.0   102.0   8.0   2.0  2.0    4.0  ...  07c540c4   \n",
       "2      0  2.0    0   1.0  14.0   767.0  89.0   4.0  2.0  245.0  ...  8efede7f   \n",
       "3      0  NaN  893   NaN   NaN  4392.0   NaN   0.0  0.0    0.0  ...  1e88c74f   \n",
       "4      0  3.0   -1   NaN   0.0     2.0   0.0   3.0  0.0    0.0  ...  1e88c74f   \n",
       "\n",
       "        C18       C19       C20       C21       C22       C23       C24  \\\n",
       "0  f54016b9  21ddcdc9  b1252a9d  07b5194c       NaN  3a171ecb  c5c50484   \n",
       "1  b04e4670  21ddcdc9  5840adea  60f6221e       NaN  3a171ecb  43f13e8b   \n",
       "2  3412118d       NaN       NaN  e587c466  ad3062eb  3a171ecb  3b183c5c   \n",
       "3  74ef3502       NaN       NaN  6b3a5ca6       NaN  3a171ecb  9117a34a   \n",
       "4  26b3c7a7       NaN       NaN  21c9516a       NaN  32c7478e  b34f3128   \n",
       "\n",
       "        C25       C26  \n",
       "0  e8b83407  9727dd16  \n",
       "1  e8b83407  731c3655  \n",
       "2       NaN       NaN  \n",
       "3       NaN       NaN  \n",
       "4       NaN       NaN  \n",
       "\n",
       "[5 rows x 40 columns]"
      ]
     },
     "execution_count": 7,
     "metadata": {},
     "output_type": "execute_result"
    }
   ],
   "source": [
    "label_col = ['label']\n",
    "dense_cols = ['I' + str(i) for i in range(1, 14)]\n",
    "sparse_cols = ['C' + str(i) for i in range(1, 27)]\n",
    "name_list = label_col + dense_cols + sparse_cols\n",
    "print('dense_feats: :%s' % dense_cols)\n",
    "print('sparse_feats: %s'% sparse_cols)\n",
    "data.columns = name_list\n",
    "data.head()"
   ]
  },
  {
   "cell_type": "code",
   "execution_count": null,
   "metadata": {},
   "outputs": [],
   "source": []
  },
  {
   "cell_type": "markdown",
   "metadata": {},
   "source": [
    "## 预处理"
   ]
  },
  {
   "cell_type": "code",
   "execution_count": 8,
   "metadata": {},
   "outputs": [],
   "source": [
    "def process_dense_feats(data, feats):\n",
    "    for f in feats:\n",
    "        data[f] = data[f].apply(lambda x: np.log(x+1) if x > -1 else -1)\n",
    "    return data"
   ]
  },
  {
   "cell_type": "code",
   "execution_count": 9,
   "metadata": {},
   "outputs": [],
   "source": [
    "data = process_dense_feats(data, dense_cols)"
   ]
  },
  {
   "cell_type": "code",
   "execution_count": 10,
   "metadata": {},
   "outputs": [],
   "source": [
    "data[dense_cols] = data[dense_cols].astype(np.float32)\n",
    "data[sparse_cols] = data[sparse_cols].fillna('').astype(str)"
   ]
  },
  {
   "cell_type": "code",
   "execution_count": 11,
   "metadata": {},
   "outputs": [
    {
     "data": {
      "text/plain": [
       "label      int64\n",
       "I1       float32\n",
       "I2       float32\n",
       "I3       float32\n",
       "I4       float32\n",
       "I5       float32\n",
       "I6       float32\n",
       "I7       float32\n",
       "I8       float32\n",
       "I9       float32\n",
       "I10      float32\n",
       "I11      float32\n",
       "I12      float32\n",
       "I13      float32\n",
       "C1        object\n",
       "C2        object\n",
       "C3        object\n",
       "C4        object\n",
       "C5        object\n",
       "C6        object\n",
       "C7        object\n",
       "C8        object\n",
       "C9        object\n",
       "C10       object\n",
       "C11       object\n",
       "C12       object\n",
       "C13       object\n",
       "C14       object\n",
       "C15       object\n",
       "C16       object\n",
       "C17       object\n",
       "C18       object\n",
       "C19       object\n",
       "C20       object\n",
       "C21       object\n",
       "C22       object\n",
       "C23       object\n",
       "C24       object\n",
       "C25       object\n",
       "C26       object\n",
       "dtype: object"
      ]
     },
     "execution_count": 11,
     "metadata": {},
     "output_type": "execute_result"
    }
   ],
   "source": [
    "data.dtypes"
   ]
  },
  {
   "cell_type": "code",
   "execution_count": 12,
   "metadata": {},
   "outputs": [
    {
     "data": {
      "text/html": [
       "<div>\n",
       "<style scoped>\n",
       "    .dataframe tbody tr th:only-of-type {\n",
       "        vertical-align: middle;\n",
       "    }\n",
       "\n",
       "    .dataframe tbody tr th {\n",
       "        vertical-align: top;\n",
       "    }\n",
       "\n",
       "    .dataframe thead th {\n",
       "        text-align: right;\n",
       "    }\n",
       "</style>\n",
       "<table border=\"1\" class=\"dataframe\">\n",
       "  <thead>\n",
       "    <tr style=\"text-align: right;\">\n",
       "      <th></th>\n",
       "      <th>label</th>\n",
       "      <th>I1</th>\n",
       "      <th>I2</th>\n",
       "      <th>I3</th>\n",
       "      <th>I4</th>\n",
       "      <th>I5</th>\n",
       "      <th>I6</th>\n",
       "      <th>I7</th>\n",
       "      <th>I8</th>\n",
       "      <th>I9</th>\n",
       "      <th>...</th>\n",
       "      <th>C17</th>\n",
       "      <th>C18</th>\n",
       "      <th>C19</th>\n",
       "      <th>C20</th>\n",
       "      <th>C21</th>\n",
       "      <th>C22</th>\n",
       "      <th>C23</th>\n",
       "      <th>C24</th>\n",
       "      <th>C25</th>\n",
       "      <th>C26</th>\n",
       "    </tr>\n",
       "  </thead>\n",
       "  <tbody>\n",
       "    <tr>\n",
       "      <th>0</th>\n",
       "      <td>0</td>\n",
       "      <td>0.693147</td>\n",
       "      <td>0.693147</td>\n",
       "      <td>1.791759</td>\n",
       "      <td>0.000000</td>\n",
       "      <td>7.232010</td>\n",
       "      <td>1.609438</td>\n",
       "      <td>2.772589</td>\n",
       "      <td>1.098612</td>\n",
       "      <td>5.204007</td>\n",
       "      <td>...</td>\n",
       "      <td>e5ba7672</td>\n",
       "      <td>f54016b9</td>\n",
       "      <td>21ddcdc9</td>\n",
       "      <td>b1252a9d</td>\n",
       "      <td>07b5194c</td>\n",
       "      <td></td>\n",
       "      <td>3a171ecb</td>\n",
       "      <td>c5c50484</td>\n",
       "      <td>e8b83407</td>\n",
       "      <td>9727dd16</td>\n",
       "    </tr>\n",
       "    <tr>\n",
       "      <th>1</th>\n",
       "      <td>0</td>\n",
       "      <td>1.098612</td>\n",
       "      <td>0.000000</td>\n",
       "      <td>3.806663</td>\n",
       "      <td>0.693147</td>\n",
       "      <td>4.634729</td>\n",
       "      <td>2.197225</td>\n",
       "      <td>1.098612</td>\n",
       "      <td>1.098612</td>\n",
       "      <td>1.609438</td>\n",
       "      <td>...</td>\n",
       "      <td>07c540c4</td>\n",
       "      <td>b04e4670</td>\n",
       "      <td>21ddcdc9</td>\n",
       "      <td>5840adea</td>\n",
       "      <td>60f6221e</td>\n",
       "      <td></td>\n",
       "      <td>3a171ecb</td>\n",
       "      <td>43f13e8b</td>\n",
       "      <td>e8b83407</td>\n",
       "      <td>731c3655</td>\n",
       "    </tr>\n",
       "    <tr>\n",
       "      <th>2</th>\n",
       "      <td>0</td>\n",
       "      <td>1.098612</td>\n",
       "      <td>0.000000</td>\n",
       "      <td>0.693147</td>\n",
       "      <td>2.708050</td>\n",
       "      <td>6.643790</td>\n",
       "      <td>4.499810</td>\n",
       "      <td>1.609438</td>\n",
       "      <td>1.098612</td>\n",
       "      <td>5.505332</td>\n",
       "      <td>...</td>\n",
       "      <td>8efede7f</td>\n",
       "      <td>3412118d</td>\n",
       "      <td></td>\n",
       "      <td></td>\n",
       "      <td>e587c466</td>\n",
       "      <td>ad3062eb</td>\n",
       "      <td>3a171ecb</td>\n",
       "      <td>3b183c5c</td>\n",
       "      <td></td>\n",
       "      <td></td>\n",
       "    </tr>\n",
       "    <tr>\n",
       "      <th>3</th>\n",
       "      <td>0</td>\n",
       "      <td>-1.000000</td>\n",
       "      <td>6.795706</td>\n",
       "      <td>-1.000000</td>\n",
       "      <td>-1.000000</td>\n",
       "      <td>8.387768</td>\n",
       "      <td>-1.000000</td>\n",
       "      <td>0.000000</td>\n",
       "      <td>0.000000</td>\n",
       "      <td>0.000000</td>\n",
       "      <td>...</td>\n",
       "      <td>1e88c74f</td>\n",
       "      <td>74ef3502</td>\n",
       "      <td></td>\n",
       "      <td></td>\n",
       "      <td>6b3a5ca6</td>\n",
       "      <td></td>\n",
       "      <td>3a171ecb</td>\n",
       "      <td>9117a34a</td>\n",
       "      <td></td>\n",
       "      <td></td>\n",
       "    </tr>\n",
       "    <tr>\n",
       "      <th>4</th>\n",
       "      <td>0</td>\n",
       "      <td>1.386294</td>\n",
       "      <td>-1.000000</td>\n",
       "      <td>-1.000000</td>\n",
       "      <td>0.000000</td>\n",
       "      <td>1.098612</td>\n",
       "      <td>0.000000</td>\n",
       "      <td>1.386294</td>\n",
       "      <td>0.000000</td>\n",
       "      <td>0.000000</td>\n",
       "      <td>...</td>\n",
       "      <td>1e88c74f</td>\n",
       "      <td>26b3c7a7</td>\n",
       "      <td></td>\n",
       "      <td></td>\n",
       "      <td>21c9516a</td>\n",
       "      <td></td>\n",
       "      <td>32c7478e</td>\n",
       "      <td>b34f3128</td>\n",
       "      <td></td>\n",
       "      <td></td>\n",
       "    </tr>\n",
       "  </tbody>\n",
       "</table>\n",
       "<p>5 rows × 40 columns</p>\n",
       "</div>"
      ],
      "text/plain": [
       "   label        I1        I2        I3        I4        I5        I6  \\\n",
       "0      0  0.693147  0.693147  1.791759  0.000000  7.232010  1.609438   \n",
       "1      0  1.098612  0.000000  3.806663  0.693147  4.634729  2.197225   \n",
       "2      0  1.098612  0.000000  0.693147  2.708050  6.643790  4.499810   \n",
       "3      0 -1.000000  6.795706 -1.000000 -1.000000  8.387768 -1.000000   \n",
       "4      0  1.386294 -1.000000 -1.000000  0.000000  1.098612  0.000000   \n",
       "\n",
       "         I7        I8        I9  ...       C17       C18       C19       C20  \\\n",
       "0  2.772589  1.098612  5.204007  ...  e5ba7672  f54016b9  21ddcdc9  b1252a9d   \n",
       "1  1.098612  1.098612  1.609438  ...  07c540c4  b04e4670  21ddcdc9  5840adea   \n",
       "2  1.609438  1.098612  5.505332  ...  8efede7f  3412118d                       \n",
       "3  0.000000  0.000000  0.000000  ...  1e88c74f  74ef3502                       \n",
       "4  1.386294  0.000000  0.000000  ...  1e88c74f  26b3c7a7                       \n",
       "\n",
       "        C21       C22       C23       C24       C25       C26  \n",
       "0  07b5194c            3a171ecb  c5c50484  e8b83407  9727dd16  \n",
       "1  60f6221e            3a171ecb  43f13e8b  e8b83407  731c3655  \n",
       "2  e587c466  ad3062eb  3a171ecb  3b183c5c                      \n",
       "3  6b3a5ca6            3a171ecb  9117a34a                      \n",
       "4  21c9516a            32c7478e  b34f3128                      \n",
       "\n",
       "[5 rows x 40 columns]"
      ]
     },
     "execution_count": 12,
     "metadata": {},
     "output_type": "execute_result"
    }
   ],
   "source": [
    "data.head()"
   ]
  },
  {
   "cell_type": "code",
   "execution_count": 13,
   "metadata": {},
   "outputs": [
    {
     "data": {
      "text/plain": [
       "label        2\n",
       "I1         153\n",
       "I2        2692\n",
       "I3         944\n",
       "I4         136\n",
       "I5       23042\n",
       "I6        2056\n",
       "I7         629\n",
       "I8         156\n",
       "I9        1943\n",
       "I10          8\n",
       "I11         87\n",
       "I12         72\n",
       "I13        274\n",
       "C1         541\n",
       "C2         497\n",
       "C3       43870\n",
       "C4       25184\n",
       "C5         145\n",
       "C6          12\n",
       "C7        7623\n",
       "C8         257\n",
       "C9           3\n",
       "C10      10997\n",
       "C11       3799\n",
       "C12      41312\n",
       "C13       2796\n",
       "C14         26\n",
       "C15       5238\n",
       "C16      34617\n",
       "C17         10\n",
       "C18       2548\n",
       "C19       1303\n",
       "C20          4\n",
       "C21      38618\n",
       "C22         11\n",
       "C23         14\n",
       "C24      12335\n",
       "C25         51\n",
       "C26       9527\n",
       "dtype: int64"
      ]
     },
     "execution_count": 13,
     "metadata": {},
     "output_type": "execute_result"
    }
   ],
   "source": [
    "data.nunique()"
   ]
  },
  {
   "cell_type": "code",
   "execution_count": null,
   "metadata": {},
   "outputs": [],
   "source": []
  },
  {
   "cell_type": "code",
   "execution_count": 14,
   "metadata": {},
   "outputs": [
    {
     "data": {
      "text/plain": [
       "((70000, 40), (30000, 40))"
      ]
     },
     "execution_count": 14,
     "metadata": {},
     "output_type": "execute_result"
    }
   ],
   "source": [
    "train, val = train_test_split(data, test_size=0.3, shuffle=False)\n",
    "train.shape, val.shape"
   ]
  },
  {
   "cell_type": "code",
   "execution_count": null,
   "metadata": {},
   "outputs": [],
   "source": []
  },
  {
   "cell_type": "code",
   "execution_count": 15,
   "metadata": {},
   "outputs": [],
   "source": [
    "# A utility method to create a tf.data dataset from a Pandas Dataframe\n",
    "def df_to_dataset(dataframe, shuffle=True, batch_size=32):\n",
    "    dataframe = dataframe.copy()\n",
    "    labels = dataframe.pop('label')\n",
    "    ds = tf.data.Dataset.from_tensor_slices((dict(dataframe), labels))\n",
    "    if shuffle:\n",
    "        ds = ds.shuffle(buffer_size=len(dataframe))\n",
    "    ds = ds.batch(batch_size)\n",
    "    return ds"
   ]
  },
  {
   "cell_type": "markdown",
   "metadata": {},
   "source": [
    "## <----- only for test"
   ]
  },
  {
   "cell_type": "code",
   "execution_count": 16,
   "metadata": {},
   "outputs": [],
   "source": [
    "batch_size = 2\n",
    "train_ds = df_to_dataset(train, shuffle=False, batch_size=batch_size)\n",
    "val_ds = df_to_dataset(val, shuffle=False, batch_size=batch_size)"
   ]
  },
  {
   "cell_type": "code",
   "execution_count": 17,
   "metadata": {},
   "outputs": [
    {
     "data": {
      "text/plain": [
       "{'I1': <tf.Tensor: shape=(2,), dtype=float32, numpy=array([0.6931472, 1.0986123], dtype=float32)>,\n",
       " 'I2': <tf.Tensor: shape=(2,), dtype=float32, numpy=array([0.6931472, 0.       ], dtype=float32)>,\n",
       " 'I3': <tf.Tensor: shape=(2,), dtype=float32, numpy=array([1.7917595, 3.8066626], dtype=float32)>,\n",
       " 'I4': <tf.Tensor: shape=(2,), dtype=float32, numpy=array([0.       , 0.6931472], dtype=float32)>,\n",
       " 'I5': <tf.Tensor: shape=(2,), dtype=float32, numpy=array([7.2320104, 4.634729 ], dtype=float32)>,\n",
       " 'I6': <tf.Tensor: shape=(2,), dtype=float32, numpy=array([1.609438 , 2.1972246], dtype=float32)>,\n",
       " 'I7': <tf.Tensor: shape=(2,), dtype=float32, numpy=array([2.7725887, 1.0986123], dtype=float32)>,\n",
       " 'I8': <tf.Tensor: shape=(2,), dtype=float32, numpy=array([1.0986123, 1.0986123], dtype=float32)>,\n",
       " 'I9': <tf.Tensor: shape=(2,), dtype=float32, numpy=array([5.2040067, 1.609438 ], dtype=float32)>,\n",
       " 'I10': <tf.Tensor: shape=(2,), dtype=float32, numpy=array([0.6931472, 0.6931472], dtype=float32)>,\n",
       " 'I11': <tf.Tensor: shape=(2,), dtype=float32, numpy=array([1.0986123, 0.6931472], dtype=float32)>,\n",
       " 'I12': <tf.Tensor: shape=(2,), dtype=float32, numpy=array([-1., -1.], dtype=float32)>,\n",
       " 'I13': <tf.Tensor: shape=(2,), dtype=float32, numpy=array([1.0986123, 1.609438 ], dtype=float32)>,\n",
       " 'C1': <tf.Tensor: shape=(2,), dtype=string, numpy=array([b'68fd1e64', b'68fd1e64'], dtype=object)>,\n",
       " 'C2': <tf.Tensor: shape=(2,), dtype=string, numpy=array([b'80e26c9b', b'f0cf0024'], dtype=object)>,\n",
       " 'C3': <tf.Tensor: shape=(2,), dtype=string, numpy=array([b'fb936136', b'6f67f7e5'], dtype=object)>,\n",
       " 'C4': <tf.Tensor: shape=(2,), dtype=string, numpy=array([b'7b4723c4', b'41274cd7'], dtype=object)>,\n",
       " 'C5': <tf.Tensor: shape=(2,), dtype=string, numpy=array([b'25c83c98', b'25c83c98'], dtype=object)>,\n",
       " 'C6': <tf.Tensor: shape=(2,), dtype=string, numpy=array([b'7e0ccccf', b'fe6b92e5'], dtype=object)>,\n",
       " 'C7': <tf.Tensor: shape=(2,), dtype=string, numpy=array([b'de7995b8', b'922afcc0'], dtype=object)>,\n",
       " 'C8': <tf.Tensor: shape=(2,), dtype=string, numpy=array([b'1f89b562', b'0b153874'], dtype=object)>,\n",
       " 'C9': <tf.Tensor: shape=(2,), dtype=string, numpy=array([b'a73ee510', b'a73ee510'], dtype=object)>,\n",
       " 'C10': <tf.Tensor: shape=(2,), dtype=string, numpy=array([b'a8cd5504', b'2b53e5fb'], dtype=object)>,\n",
       " 'C11': <tf.Tensor: shape=(2,), dtype=string, numpy=array([b'b2cb9c98', b'4f1b46f3'], dtype=object)>,\n",
       " 'C12': <tf.Tensor: shape=(2,), dtype=string, numpy=array([b'37c9c164', b'623049e6'], dtype=object)>,\n",
       " 'C13': <tf.Tensor: shape=(2,), dtype=string, numpy=array([b'2824a5f6', b'd7020589'], dtype=object)>,\n",
       " 'C14': <tf.Tensor: shape=(2,), dtype=string, numpy=array([b'1adce6ef', b'b28479f6'], dtype=object)>,\n",
       " 'C15': <tf.Tensor: shape=(2,), dtype=string, numpy=array([b'8ba8b39a', b'e6c5b5cd'], dtype=object)>,\n",
       " 'C16': <tf.Tensor: shape=(2,), dtype=string, numpy=array([b'891b62e7', b'c92f3b61'], dtype=object)>,\n",
       " 'C17': <tf.Tensor: shape=(2,), dtype=string, numpy=array([b'e5ba7672', b'07c540c4'], dtype=object)>,\n",
       " 'C18': <tf.Tensor: shape=(2,), dtype=string, numpy=array([b'f54016b9', b'b04e4670'], dtype=object)>,\n",
       " 'C19': <tf.Tensor: shape=(2,), dtype=string, numpy=array([b'21ddcdc9', b'21ddcdc9'], dtype=object)>,\n",
       " 'C20': <tf.Tensor: shape=(2,), dtype=string, numpy=array([b'b1252a9d', b'5840adea'], dtype=object)>,\n",
       " 'C21': <tf.Tensor: shape=(2,), dtype=string, numpy=array([b'07b5194c', b'60f6221e'], dtype=object)>,\n",
       " 'C22': <tf.Tensor: shape=(2,), dtype=string, numpy=array([b'', b''], dtype=object)>,\n",
       " 'C23': <tf.Tensor: shape=(2,), dtype=string, numpy=array([b'3a171ecb', b'3a171ecb'], dtype=object)>,\n",
       " 'C24': <tf.Tensor: shape=(2,), dtype=string, numpy=array([b'c5c50484', b'43f13e8b'], dtype=object)>,\n",
       " 'C25': <tf.Tensor: shape=(2,), dtype=string, numpy=array([b'e8b83407', b'e8b83407'], dtype=object)>,\n",
       " 'C26': <tf.Tensor: shape=(2,), dtype=string, numpy=array([b'9727dd16', b'731c3655'], dtype=object)>}"
      ]
     },
     "execution_count": 17,
     "metadata": {},
     "output_type": "execute_result"
    }
   ],
   "source": [
    "for ds in train_ds.take(1):\n",
    "    example_batch, _ = ds\n",
    "example_batch"
   ]
  },
  {
   "cell_type": "code",
   "execution_count": 18,
   "metadata": {},
   "outputs": [],
   "source": [
    "def demo(feature_column):\n",
    "    feature_layer = layers.DenseFeatures(feature_column)\n",
    "    print(feature_layer(example_batch).numpy())"
   ]
  },
  {
   "cell_type": "code",
   "execution_count": 19,
   "metadata": {},
   "outputs": [
    {
     "name": "stdout",
     "output_type": "stream",
     "text": [
      "[[0. 1. 0. 0.]\n",
      " [0. 0. 1. 0.]]\n"
     ]
    }
   ],
   "source": [
    "I1 = feature_column.numeric_column('I1')\n",
    "I1_bucket = feature_column.bucketized_column(I1, boundaries=[0,1,2])\n",
    "demo(I1_bucket)"
   ]
  },
  {
   "cell_type": "code",
   "execution_count": 20,
   "metadata": {},
   "outputs": [
    {
     "name": "stdout",
     "output_type": "stream",
     "text": [
      "WARNING:tensorflow:From /home/momoso/miniconda3/envs/tf2_gpu/lib/python3.7/site-packages/tensorflow_core/python/feature_column/feature_column_v2.py:4267: IndicatorColumn._variable_shape (from tensorflow.python.feature_column.feature_column_v2) is deprecated and will be removed in a future version.\n",
      "Instructions for updating:\n",
      "The old _FeatureColumn APIs are being deprecated. Please use the new FeatureColumn APIs instead.\n",
      "WARNING:tensorflow:From /home/momoso/miniconda3/envs/tf2_gpu/lib/python3.7/site-packages/tensorflow_core/python/feature_column/feature_column_v2.py:4322: HashedCategoricalColumn._num_buckets (from tensorflow.python.feature_column.feature_column_v2) is deprecated and will be removed in a future version.\n",
      "Instructions for updating:\n",
      "The old _FeatureColumn APIs are being deprecated. Please use the new FeatureColumn APIs instead.\n",
      "[[1. 0. 0.]\n",
      " [1. 0. 0.]]\n"
     ]
    }
   ],
   "source": [
    "C1 = feature_column.categorical_column_with_hash_bucket(\"C1\", hash_bucket_size=3)\n",
    "C1_onehot = feature_column.indicator_column(C1)\n",
    "demo(C1_onehot)"
   ]
  },
  {
   "cell_type": "code",
   "execution_count": 21,
   "metadata": {},
   "outputs": [
    {
     "name": "stdout",
     "output_type": "stream",
     "text": [
      "WARNING:tensorflow:From /home/momoso/miniconda3/envs/tf2_gpu/lib/python3.7/site-packages/tensorflow_core/python/feature_column/feature_column_v2.py:4322: VocabularyListCategoricalColumn._num_buckets (from tensorflow.python.feature_column.feature_column_v2) is deprecated and will be removed in a future version.\n",
      "Instructions for updating:\n",
      "The old _FeatureColumn APIs are being deprecated. Please use the new FeatureColumn APIs instead.\n",
      "[[1. 0. 0. 0. 0. 0. 0. 0. 0. 0. 0. 0. 0. 0. 0. 0. 0. 0. 0. 0. 0. 0. 0. 0.\n",
      "  0. 0. 0. 0. 0. 0. 0. 0. 0. 0. 0. 0. 0. 0. 0. 0. 0. 0. 0. 0. 0. 0. 0. 0.\n",
      "  0. 0. 0. 0. 0. 0. 0. 0. 0. 0. 0. 0. 0. 0. 0. 0. 0. 0. 0. 0. 0. 0. 0. 0.\n",
      "  0. 0. 0. 0. 0. 0. 0. 0. 0. 0. 0. 0. 0. 0. 0. 0. 0. 0. 0. 0. 0. 0. 0. 0.\n",
      "  0. 0. 0. 0. 0. 0. 0. 0. 0. 0. 0. 0. 0. 0. 0. 0. 0. 0. 0. 0. 0. 0. 0. 0.\n",
      "  0. 0. 0. 0. 0. 0. 0. 0. 0. 0. 0. 0. 0. 0. 0. 0. 0. 0. 0. 0. 0. 0. 0. 0.\n",
      "  0. 0. 0. 0. 0. 0. 0. 0. 0. 0. 0. 0. 0. 0. 0. 0. 0. 0. 0. 0. 0. 0. 0. 0.\n",
      "  0. 0. 0. 0. 0. 0. 0. 0. 0. 0. 0. 0. 0. 0. 0. 0. 0. 0. 0. 0. 0. 0. 0. 0.\n",
      "  0. 0. 0. 0. 0. 0. 0. 0. 0. 0. 0. 0. 0. 0. 0. 0. 0. 0. 0. 0. 0. 0. 0. 0.\n",
      "  0. 0. 0. 0. 0. 0. 0. 0. 0. 0. 0. 0. 0. 0. 0. 0. 0. 0. 0. 0. 0. 0. 0. 0.\n",
      "  0. 0. 0. 0. 0. 0. 0. 0. 0. 0. 0. 0. 0. 0. 0. 0. 0. 0. 0. 0. 0. 0. 0. 0.\n",
      "  0. 0. 0. 0. 0. 0. 0. 0. 0. 0. 0. 0. 0. 0. 0. 0. 0. 0. 0. 0. 0. 0. 0. 0.\n",
      "  0. 0. 0. 0. 0. 0. 0. 0. 0. 0. 0. 0. 0. 0. 0. 0. 0. 0. 0. 0. 0. 0. 0. 0.\n",
      "  0. 0. 0. 0. 0. 0. 0. 0. 0. 0. 0. 0. 0. 0. 0. 0. 0. 0. 0. 0. 0. 0. 0. 0.\n",
      "  0. 0. 0. 0. 0. 0. 0. 0. 0. 0. 0. 0. 0. 0. 0. 0. 0. 0. 0. 0. 0. 0. 0. 0.\n",
      "  0. 0. 0. 0. 0. 0. 0. 0. 0. 0. 0. 0. 0. 0. 0. 0. 0. 0. 0. 0. 0. 0. 0. 0.\n",
      "  0. 0. 0. 0. 0. 0. 0. 0. 0. 0. 0. 0. 0. 0. 0. 0. 0. 0. 0. 0. 0. 0. 0. 0.\n",
      "  0. 0. 0. 0. 0. 0. 0. 0. 0. 0. 0. 0. 0. 0. 0. 0. 0. 0. 0. 0. 0. 0. 0. 0.\n",
      "  0. 0. 0. 0. 0. 0. 0. 0. 0. 0. 0. 0. 0. 0. 0. 0. 0. 0. 0. 0. 0. 0. 0. 0.\n",
      "  0. 0. 0. 0. 0. 0. 0. 0. 0. 0. 0. 0. 0. 0. 0. 0. 0. 0. 0. 0. 0. 0. 0. 0.\n",
      "  0. 0. 0. 0. 0. 0. 0. 0. 0. 0. 0. 0. 0. 0. 0. 0. 0.]\n",
      " [0. 1. 0. 0. 0. 0. 0. 0. 0. 0. 0. 0. 0. 0. 0. 0. 0. 0. 0. 0. 0. 0. 0. 0.\n",
      "  0. 0. 0. 0. 0. 0. 0. 0. 0. 0. 0. 0. 0. 0. 0. 0. 0. 0. 0. 0. 0. 0. 0. 0.\n",
      "  0. 0. 0. 0. 0. 0. 0. 0. 0. 0. 0. 0. 0. 0. 0. 0. 0. 0. 0. 0. 0. 0. 0. 0.\n",
      "  0. 0. 0. 0. 0. 0. 0. 0. 0. 0. 0. 0. 0. 0. 0. 0. 0. 0. 0. 0. 0. 0. 0. 0.\n",
      "  0. 0. 0. 0. 0. 0. 0. 0. 0. 0. 0. 0. 0. 0. 0. 0. 0. 0. 0. 0. 0. 0. 0. 0.\n",
      "  0. 0. 0. 0. 0. 0. 0. 0. 0. 0. 0. 0. 0. 0. 0. 0. 0. 0. 0. 0. 0. 0. 0. 0.\n",
      "  0. 0. 0. 0. 0. 0. 0. 0. 0. 0. 0. 0. 0. 0. 0. 0. 0. 0. 0. 0. 0. 0. 0. 0.\n",
      "  0. 0. 0. 0. 0. 0. 0. 0. 0. 0. 0. 0. 0. 0. 0. 0. 0. 0. 0. 0. 0. 0. 0. 0.\n",
      "  0. 0. 0. 0. 0. 0. 0. 0. 0. 0. 0. 0. 0. 0. 0. 0. 0. 0. 0. 0. 0. 0. 0. 0.\n",
      "  0. 0. 0. 0. 0. 0. 0. 0. 0. 0. 0. 0. 0. 0. 0. 0. 0. 0. 0. 0. 0. 0. 0. 0.\n",
      "  0. 0. 0. 0. 0. 0. 0. 0. 0. 0. 0. 0. 0. 0. 0. 0. 0. 0. 0. 0. 0. 0. 0. 0.\n",
      "  0. 0. 0. 0. 0. 0. 0. 0. 0. 0. 0. 0. 0. 0. 0. 0. 0. 0. 0. 0. 0. 0. 0. 0.\n",
      "  0. 0. 0. 0. 0. 0. 0. 0. 0. 0. 0. 0. 0. 0. 0. 0. 0. 0. 0. 0. 0. 0. 0. 0.\n",
      "  0. 0. 0. 0. 0. 0. 0. 0. 0. 0. 0. 0. 0. 0. 0. 0. 0. 0. 0. 0. 0. 0. 0. 0.\n",
      "  0. 0. 0. 0. 0. 0. 0. 0. 0. 0. 0. 0. 0. 0. 0. 0. 0. 0. 0. 0. 0. 0. 0. 0.\n",
      "  0. 0. 0. 0. 0. 0. 0. 0. 0. 0. 0. 0. 0. 0. 0. 0. 0. 0. 0. 0. 0. 0. 0. 0.\n",
      "  0. 0. 0. 0. 0. 0. 0. 0. 0. 0. 0. 0. 0. 0. 0. 0. 0. 0. 0. 0. 0. 0. 0. 0.\n",
      "  0. 0. 0. 0. 0. 0. 0. 0. 0. 0. 0. 0. 0. 0. 0. 0. 0. 0. 0. 0. 0. 0. 0. 0.\n",
      "  0. 0. 0. 0. 0. 0. 0. 0. 0. 0. 0. 0. 0. 0. 0. 0. 0. 0. 0. 0. 0. 0. 0. 0.\n",
      "  0. 0. 0. 0. 0. 0. 0. 0. 0. 0. 0. 0. 0. 0. 0. 0. 0. 0. 0. 0. 0. 0. 0. 0.\n",
      "  0. 0. 0. 0. 0. 0. 0. 0. 0. 0. 0. 0. 0. 0. 0. 0. 0.]]\n"
     ]
    }
   ],
   "source": [
    "C2 = feature_column.categorical_column_with_vocabulary_list(\"C2\", vocabulary_list=data['C2'].unique())\n",
    "C2_onehot = feature_column.indicator_column(C2)\n",
    "demo(C2_onehot)"
   ]
  },
  {
   "cell_type": "code",
   "execution_count": 22,
   "metadata": {},
   "outputs": [
    {
     "name": "stdout",
     "output_type": "stream",
     "text": [
      "WARNING:tensorflow:From /home/momoso/miniconda3/envs/tf2_gpu/lib/python3.7/site-packages/tensorflow_core/python/feature_column/feature_column_v2.py:4322: CrossedColumn._num_buckets (from tensorflow.python.feature_column.feature_column_v2) is deprecated and will be removed in a future version.\n",
      "Instructions for updating:\n",
      "The old _FeatureColumn APIs are being deprecated. Please use the new FeatureColumn APIs instead.\n",
      "[[0. 0. 0. 1. 0. 0. 0. 0. 0. 0.]\n",
      " [0. 0. 0. 0. 0. 0. 1. 0. 0. 0.]]\n"
     ]
    }
   ],
   "source": [
    "cross = feature_column.crossed_column([I1_bucket, C2], hash_bucket_size=10)\n",
    "demo(feature_column.indicator_column(cross))"
   ]
  },
  {
   "cell_type": "markdown",
   "metadata": {},
   "source": [
    "## test end -------->"
   ]
  },
  {
   "cell_type": "code",
   "execution_count": null,
   "metadata": {},
   "outputs": [],
   "source": []
  },
  {
   "cell_type": "code",
   "execution_count": 23,
   "metadata": {},
   "outputs": [],
   "source": [
    "wide_feature_cols = []\n",
    "deep_feature_cols = []"
   ]
  },
  {
   "cell_type": "code",
   "execution_count": 24,
   "metadata": {},
   "outputs": [],
   "source": [
    "# numeric cols \n",
    "for col in dense_cols:\n",
    "    wide_feature_cols.append(feature_column.numeric_column(col))\n",
    "    deep_feature_cols.append(feature_column.numeric_column(col))"
   ]
  },
  {
   "cell_type": "code",
   "execution_count": 25,
   "metadata": {},
   "outputs": [],
   "source": [
    "# bucketized columns\n",
    "for col in dense_cols:\n",
    "    num_col = feature_column.numeric_column(col)\n",
    "    buck_num_col = feature_column.bucketized_column(num_col, boundaries=[1,10,100])\n",
    "    wide_feature_cols.append(buck_num_col)\n",
    "    deep_feature_cols.append(buck_num_col)"
   ]
  },
  {
   "cell_type": "code",
   "execution_count": 26,
   "metadata": {},
   "outputs": [],
   "source": [
    "# category columns\n",
    "for col in sparse_cols:\n",
    "    n_uniq = data[col].nunique()\n",
    "    cate_col = feature_column.categorical_column_with_vocabulary_list(col, vocabulary_list=data[col].unique())\n",
    "    if n_uniq < 100:\n",
    "        ## one-hot\n",
    "        wide_feature_cols.append(feature_column.indicator_column(cate_col))\n",
    "        deep_feature_cols.append(feature_column.indicator_column(cate_col))\n",
    "    else:\n",
    "        ## embedding\n",
    "        cate_col = feature_column.embedding_column(cate_col, dimension=8)\n",
    "        wide_feature_cols.append(cate_col)\n",
    "        deep_feature_cols.append(cate_col)"
   ]
  },
  {
   "cell_type": "code",
   "execution_count": 27,
   "metadata": {},
   "outputs": [],
   "source": [
    "# cross columns\n",
    "for cate1, cate2 in zip(sparse_cols[:-1], sparse_cols[1:]):\n",
    "    cross_col = feature_column.crossed_column([cate1, cate2], hash_bucket_size=100)\n",
    "    cross_col = feature_column.indicator_column(cross_col)\n",
    "    wide_feature_cols.append(cross_col)"
   ]
  },
  {
   "cell_type": "code",
   "execution_count": 28,
   "metadata": {},
   "outputs": [
    {
     "data": {
      "text/plain": [
       "'C18_embedding'"
      ]
     },
     "execution_count": 28,
     "metadata": {},
     "output_type": "execute_result"
    }
   ],
   "source": [
    "wide_feature_cols[43].name"
   ]
  },
  {
   "cell_type": "code",
   "execution_count": null,
   "metadata": {},
   "outputs": [],
   "source": []
  },
  {
   "cell_type": "code",
   "execution_count": 29,
   "metadata": {},
   "outputs": [
    {
     "name": "stdout",
     "output_type": "stream",
     "text": [
      "0 I1 NumericColumn\n",
      "1 I2 NumericColumn\n",
      "2 I3 NumericColumn\n",
      "3 I4 NumericColumn\n",
      "4 I5 NumericColumn\n",
      "5 I6 NumericColumn\n",
      "6 I7 NumericColumn\n",
      "7 I8 NumericColumn\n",
      "8 I9 NumericColumn\n",
      "9 I10 NumericColumn\n",
      "10 I11 NumericColumn\n",
      "11 I12 NumericColumn\n",
      "12 I13 NumericColumn\n",
      "13 I1_bucketized BucketizedColumn\n",
      "14 I2_bucketized BucketizedColumn\n",
      "15 I3_bucketized BucketizedColumn\n",
      "16 I4_bucketized BucketizedColumn\n",
      "17 I5_bucketized BucketizedColumn\n",
      "18 I6_bucketized BucketizedColumn\n",
      "19 I7_bucketized BucketizedColumn\n",
      "20 I8_bucketized BucketizedColumn\n",
      "21 I9_bucketized BucketizedColumn\n",
      "22 I10_bucketized BucketizedColumn\n",
      "23 I11_bucketized BucketizedColumn\n",
      "24 I12_bucketized BucketizedColumn\n",
      "25 I13_bucketized BucketizedColumn\n",
      "26 C1_embedding EmbeddingColumn\n",
      "27 C2_embedding EmbeddingColumn\n",
      "28 C3_embedding EmbeddingColumn\n",
      "29 C4_embedding EmbeddingColumn\n",
      "30 C5_embedding EmbeddingColumn\n",
      "31 C6_indicator IndicatorColumn\n",
      "32 C7_embedding EmbeddingColumn\n",
      "33 C8_embedding EmbeddingColumn\n",
      "34 C9_indicator IndicatorColumn\n",
      "35 C10_embedding EmbeddingColumn\n",
      "36 C11_embedding EmbeddingColumn\n",
      "37 C12_embedding EmbeddingColumn\n",
      "38 C13_embedding EmbeddingColumn\n",
      "39 C14_indicator IndicatorColumn\n",
      "40 C15_embedding EmbeddingColumn\n",
      "41 C16_embedding EmbeddingColumn\n",
      "42 C17_indicator IndicatorColumn\n",
      "43 C18_embedding EmbeddingColumn\n",
      "44 C19_embedding EmbeddingColumn\n",
      "45 C20_indicator IndicatorColumn\n",
      "46 C21_embedding EmbeddingColumn\n",
      "47 C22_indicator IndicatorColumn\n",
      "48 C23_indicator IndicatorColumn\n",
      "49 C24_embedding EmbeddingColumn\n",
      "50 C25_indicator IndicatorColumn\n",
      "51 C26_embedding EmbeddingColumn\n",
      "52 C1_X_C2_indicator IndicatorColumn\n",
      "53 C2_X_C3_indicator IndicatorColumn\n",
      "54 C3_X_C4_indicator IndicatorColumn\n",
      "55 C4_X_C5_indicator IndicatorColumn\n",
      "56 C5_X_C6_indicator IndicatorColumn\n",
      "57 C6_X_C7_indicator IndicatorColumn\n",
      "58 C7_X_C8_indicator IndicatorColumn\n",
      "59 C8_X_C9_indicator IndicatorColumn\n",
      "60 C10_X_C9_indicator IndicatorColumn\n",
      "61 C10_X_C11_indicator IndicatorColumn\n",
      "62 C11_X_C12_indicator IndicatorColumn\n",
      "63 C12_X_C13_indicator IndicatorColumn\n",
      "64 C13_X_C14_indicator IndicatorColumn\n",
      "65 C14_X_C15_indicator IndicatorColumn\n",
      "66 C15_X_C16_indicator IndicatorColumn\n",
      "67 C16_X_C17_indicator IndicatorColumn\n",
      "68 C17_X_C18_indicator IndicatorColumn\n",
      "69 C18_X_C19_indicator IndicatorColumn\n",
      "70 C19_X_C20_indicator IndicatorColumn\n",
      "71 C20_X_C21_indicator IndicatorColumn\n",
      "72 C21_X_C22_indicator IndicatorColumn\n",
      "73 C22_X_C23_indicator IndicatorColumn\n",
      "74 C23_X_C24_indicator IndicatorColumn\n",
      "75 C24_X_C25_indicator IndicatorColumn\n",
      "76 C25_X_C26_indicator IndicatorColumn\n"
     ]
    }
   ],
   "source": [
    "for i, col in enumerate(wide_feature_cols):\n",
    "    print(i, col.name, col.__class__.__name__)"
   ]
  },
  {
   "cell_type": "code",
   "execution_count": 30,
   "metadata": {},
   "outputs": [],
   "source": [
    "wide_feature_layer = layers.DenseFeatures(wide_feature_cols)\n",
    "deep_feature_layer = layers.DenseFeatures(deep_feature_cols)"
   ]
  },
  {
   "cell_type": "code",
   "execution_count": 31,
   "metadata": {},
   "outputs": [],
   "source": [
    "class WideAndDeep(tf.keras.Model):\n",
    "    def __init__(self, wide_feature_cols, deep_feature_cols):\n",
    "        super(WideAndDeep, self).__init__()\n",
    "        self.linear = layers.Dense(1, name='linear')\n",
    "        self.wide_feature_layer = layers.DenseFeatures(wide_feature_cols)\n",
    "        self.deep_feature_layer = layers.DenseFeatures(deep_feature_cols)\n",
    "        self.deep_layers = []\n",
    "        for size in [16,8,1]:\n",
    "            self.deep_layers.append(layers.Dense(size, activation='relu'))\n",
    "        \n",
    "        self.combine_layer = layers.Dense(1, activation='sigmoid')\n",
    "        \n",
    "    def call(self, inputs):\n",
    "        linear_input = self.wide_feature_layer(inputs)\n",
    "        linear_out = self.linear(linear_input)\n",
    "        \n",
    "        deep_input = self.deep_feature_layer(inputs)\n",
    "        for l in self.deep_layers:\n",
    "            deep_input = l(deep_input)\n",
    "        \n",
    "        combine = tf.concat([linear_out, deep_input], axis=1)\n",
    "        output = self.combine_layer(combine)\n",
    "        return output"
   ]
  },
  {
   "cell_type": "code",
   "execution_count": 32,
   "metadata": {},
   "outputs": [],
   "source": [
    "batch_size = 32\n",
    "train_ds = df_to_dataset(train, shuffle=False, batch_size=batch_size)\n",
    "val_ds = df_to_dataset(val, shuffle=False, batch_size=batch_size)"
   ]
  },
  {
   "cell_type": "markdown",
   "metadata": {},
   "source": [
    "## Only FTRL"
   ]
  },
  {
   "cell_type": "code",
   "execution_count": 33,
   "metadata": {},
   "outputs": [
    {
     "name": "stdout",
     "output_type": "stream",
     "text": [
      "Train for 2188 steps, validate for 938 steps\n",
      "Epoch 1/5\n",
      "2188/2188 [==============================] - 29s 13ms/step - loss: 0.8518 - auc: 0.5092 - accuracy: 0.7752 - val_loss: 0.8343 - val_auc: 0.5956 - val_accuracy: 0.7687\n",
      "Epoch 2/5\n",
      "2188/2188 [==============================] - 14s 6ms/step - loss: 0.8158 - auc: 0.5406 - accuracy: 0.7754 - val_loss: 0.7924 - val_auc: 0.5901 - val_accuracy: 0.7687\n",
      "Epoch 3/5\n",
      "2188/2188 [==============================] - 18s 8ms/step - loss: 0.7774 - auc: 0.5658 - accuracy: 0.7754 - val_loss: 0.7607 - val_auc: 0.5896 - val_accuracy: 0.7687\n",
      "Epoch 4/5\n",
      "2188/2188 [==============================] - 19s 9ms/step - loss: 0.7515 - auc: 0.5764 - accuracy: 0.7754 - val_loss: 0.7410 - val_auc: 0.5905 - val_accuracy: 0.7687\n",
      "Epoch 5/5\n",
      "2188/2188 [==============================] - 14s 6ms/step - loss: 0.7357 - auc: 0.5810 - accuracy: 0.7754 - val_loss: 0.7289 - val_auc: 0.5916 - val_accuracy: 0.7687\n"
     ]
    },
    {
     "data": {
      "text/plain": [
       "<tensorflow.python.keras.callbacks.History at 0x7f74846aa110>"
      ]
     },
     "execution_count": 33,
     "metadata": {},
     "output_type": "execute_result"
    }
   ],
   "source": [
    "model = WideAndDeep(wide_feature_cols, deep_feature_cols)\n",
    "auc = tf.keras.metrics.AUC()\n",
    "model.compile(optimizer='ftrl', loss=tf.keras.losses.BinaryCrossentropy(from_logits=True), metrics=[auc, 'accuracy'])\n",
    "model.fit(train_ds, validation_data=val_ds, epochs=5)"
   ]
  },
  {
   "cell_type": "markdown",
   "metadata": {},
   "source": [
    "## Only Adam"
   ]
  },
  {
   "cell_type": "code",
   "execution_count": 34,
   "metadata": {},
   "outputs": [
    {
     "name": "stdout",
     "output_type": "stream",
     "text": [
      "Train for 2188 steps, validate for 938 steps\n",
      "Epoch 1/5\n",
      "2188/2188 [==============================] - 54s 25ms/step - loss: 0.6956 - auc_1: 0.5160 - accuracy: 0.7747 - val_loss: 0.6932 - val_auc_1: 0.5007 - val_accuracy: 0.7687\n",
      "Epoch 2/5\n",
      "2188/2188 [==============================] - 46s 21ms/step - loss: 0.6932 - auc_1: 0.5005 - accuracy: 0.7754 - val_loss: 0.6932 - val_auc_1: 0.5001 - val_accuracy: 0.7687\n",
      "Epoch 3/5\n",
      "2188/2188 [==============================] - 38s 17ms/step - loss: 0.6920 - auc_1: 0.5507 - accuracy: 0.7794 - val_loss: 0.6902 - val_auc_1: 0.6071 - val_accuracy: 0.7785\n",
      "Epoch 4/5\n",
      "2188/2188 [==============================] - 37s 17ms/step - loss: 0.6860 - auc_1: 0.6449 - accuracy: 0.7984 - val_loss: 0.6891 - val_auc_1: 0.6359 - val_accuracy: 0.7861\n",
      "Epoch 5/5\n",
      "2188/2188 [==============================] - 41s 19ms/step - loss: 0.6774 - auc_1: 0.6978 - accuracy: 0.8233 - val_loss: 0.6914 - val_auc_1: 0.6434 - val_accuracy: 0.7868\n"
     ]
    },
    {
     "data": {
      "text/plain": [
       "<tensorflow.python.keras.callbacks.History at 0x7f73e7996990>"
      ]
     },
     "execution_count": 34,
     "metadata": {},
     "output_type": "execute_result"
    }
   ],
   "source": [
    "model = WideAndDeep(wide_feature_cols, deep_feature_cols)\n",
    "auc = tf.keras.metrics.AUC()\n",
    "model.compile(optimizer='adam', loss=tf.keras.losses.BinaryCrossentropy(from_logits=True), metrics=[auc, 'accuracy'])\n",
    "model.fit(train_ds, validation_data=val_ds, epochs=5)"
   ]
  },
  {
   "cell_type": "code",
   "execution_count": null,
   "metadata": {},
   "outputs": [],
   "source": []
  },
  {
   "cell_type": "markdown",
   "metadata": {},
   "source": [
    "## wide部分使用ftrl，deep部分使用adam\n"
   ]
  },
  {
   "cell_type": "code",
   "execution_count": 35,
   "metadata": {},
   "outputs": [],
   "source": [
    "loss = tf.keras.losses.BinaryCrossentropy(name='bce')\n",
    "adam = tf.keras.optimizers.Adam()  ## use name or class\n",
    "ftrl = tf.keras.optimizers.Ftrl()"
   ]
  },
  {
   "cell_type": "code",
   "execution_count": 36,
   "metadata": {},
   "outputs": [],
   "source": [
    "train_auc = tf.keras.metrics.AUC(name='train_auc')\n",
    "test_auc = tf.keras.metrics.AUC(name='test_auc')\n",
    "\n",
    "train_bce = tf.keras.metrics.BinaryCrossentropy(name='train_bce')\n",
    "test_bce = tf.keras.metrics.BinaryCrossentropy(name='test_bce')"
   ]
  },
  {
   "cell_type": "code",
   "execution_count": 37,
   "metadata": {},
   "outputs": [],
   "source": [
    "model = WideAndDeep(wide_feature_cols, deep_feature_cols)"
   ]
  },
  {
   "cell_type": "code",
   "execution_count": 38,
   "metadata": {},
   "outputs": [
    {
     "name": "stdout",
     "output_type": "stream",
     "text": [
      "pred  tf.Tensor(\n",
      "[[0.54756373]\n",
      " [0.5382122 ]\n",
      " [0.58039093]\n",
      " [0.47321528]\n",
      " [0.561681  ]\n",
      " [0.4881842 ]\n",
      " [0.5139341 ]\n",
      " [0.50274473]\n",
      " [0.492658  ]\n",
      " [0.50318015]\n",
      " [0.52520555]\n",
      " [0.4806519 ]\n",
      " [0.49183303]\n",
      " [0.4899053 ]\n",
      " [0.5413205 ]\n",
      " [0.49208173]\n",
      " [0.48630807]\n",
      " [0.47240713]\n",
      " [0.51441056]\n",
      " [0.47781396]\n",
      " [0.48027533]\n",
      " [0.47859192]\n",
      " [0.4912872 ]\n",
      " [0.5048053 ]\n",
      " [0.49765465]\n",
      " [0.49588895]\n",
      " [0.54159915]\n",
      " [0.4905326 ]\n",
      " [0.5019788 ]\n",
      " [0.6875351 ]\n",
      " [0.4740369 ]\n",
      " [0.5002018 ]], shape=(32, 1), dtype=float32)\n"
     ]
    }
   ],
   "source": [
    "for x, y in train_ds.take(1):\n",
    "    pred = model(x, training=False)\n",
    "    print('pred ', pred)"
   ]
  },
  {
   "cell_type": "code",
   "execution_count": null,
   "metadata": {},
   "outputs": [],
   "source": []
  },
  {
   "cell_type": "code",
   "execution_count": 39,
   "metadata": {},
   "outputs": [
    {
     "name": "stdout",
     "output_type": "stream",
     "text": [
      "wide_and_deep_2/linear/kernel:0\n",
      "wide_and_deep_2/linear/bias:0\n",
      "wide_and_deep_2/dense_features_10/C10_embedding/embedding_weights:0\n",
      "wide_and_deep_2/dense_features_10/C11_embedding/embedding_weights:0\n",
      "wide_and_deep_2/dense_features_10/C12_embedding/embedding_weights:0\n",
      "wide_and_deep_2/dense_features_10/C13_embedding/embedding_weights:0\n",
      "wide_and_deep_2/dense_features_10/C15_embedding/embedding_weights:0\n",
      "wide_and_deep_2/dense_features_10/C16_embedding/embedding_weights:0\n",
      "wide_and_deep_2/dense_features_10/C18_embedding/embedding_weights:0\n",
      "wide_and_deep_2/dense_features_10/C19_embedding/embedding_weights:0\n",
      "wide_and_deep_2/dense_features_10/C1_embedding/embedding_weights:0\n",
      "wide_and_deep_2/dense_features_10/C21_embedding/embedding_weights:0\n",
      "wide_and_deep_2/dense_features_10/C24_embedding/embedding_weights:0\n",
      "wide_and_deep_2/dense_features_10/C26_embedding/embedding_weights:0\n",
      "wide_and_deep_2/dense_features_10/C2_embedding/embedding_weights:0\n",
      "wide_and_deep_2/dense_features_10/C3_embedding/embedding_weights:0\n",
      "wide_and_deep_2/dense_features_10/C4_embedding/embedding_weights:0\n",
      "wide_and_deep_2/dense_features_10/C5_embedding/embedding_weights:0\n",
      "wide_and_deep_2/dense_features_10/C7_embedding/embedding_weights:0\n",
      "wide_and_deep_2/dense_features_10/C8_embedding/embedding_weights:0\n",
      "wide_and_deep_2/dense_features_11/C10_embedding/embedding_weights:0\n",
      "wide_and_deep_2/dense_features_11/C11_embedding/embedding_weights:0\n",
      "wide_and_deep_2/dense_features_11/C12_embedding/embedding_weights:0\n",
      "wide_and_deep_2/dense_features_11/C13_embedding/embedding_weights:0\n",
      "wide_and_deep_2/dense_features_11/C15_embedding/embedding_weights:0\n",
      "wide_and_deep_2/dense_features_11/C16_embedding/embedding_weights:0\n",
      "wide_and_deep_2/dense_features_11/C18_embedding/embedding_weights:0\n",
      "wide_and_deep_2/dense_features_11/C19_embedding/embedding_weights:0\n",
      "wide_and_deep_2/dense_features_11/C1_embedding/embedding_weights:0\n",
      "wide_and_deep_2/dense_features_11/C21_embedding/embedding_weights:0\n",
      "wide_and_deep_2/dense_features_11/C24_embedding/embedding_weights:0\n",
      "wide_and_deep_2/dense_features_11/C26_embedding/embedding_weights:0\n",
      "wide_and_deep_2/dense_features_11/C2_embedding/embedding_weights:0\n",
      "wide_and_deep_2/dense_features_11/C3_embedding/embedding_weights:0\n",
      "wide_and_deep_2/dense_features_11/C4_embedding/embedding_weights:0\n",
      "wide_and_deep_2/dense_features_11/C5_embedding/embedding_weights:0\n",
      "wide_and_deep_2/dense_features_11/C7_embedding/embedding_weights:0\n",
      "wide_and_deep_2/dense_features_11/C8_embedding/embedding_weights:0\n",
      "wide_and_deep_2/dense_8/kernel:0\n",
      "wide_and_deep_2/dense_8/bias:0\n",
      "wide_and_deep_2/dense_9/kernel:0\n",
      "wide_and_deep_2/dense_9/bias:0\n",
      "wide_and_deep_2/dense_10/kernel:0\n",
      "wide_and_deep_2/dense_10/bias:0\n",
      "wide_and_deep_2/dense_11/kernel:0\n",
      "wide_and_deep_2/dense_11/bias:0\n"
     ]
    }
   ],
   "source": [
    "## model should build first\n",
    "for weight in model.trainable_variables:\n",
    "    print(weight.name)"
   ]
  },
  {
   "cell_type": "code",
   "execution_count": 40,
   "metadata": {},
   "outputs": [],
   "source": [
    "@tf.function\n",
    "def train_step(x, y):\n",
    "    with tf.GradientTape() as tape:\n",
    "        pred = model(x, training=True)\n",
    "        l = loss(y, pred)\n",
    "    grads = tape.gradient(l, model.trainable_variables)\n",
    "    \n",
    "    linear_grads, linear_variables = [], []\n",
    "    dnn_grads, dnn_variables = [], []\n",
    "\n",
    "    for grad, variable in zip(grads, model.trainable_variables):\n",
    "        if 'linear' in variable.name:\n",
    "            linear_grads.append(grad)\n",
    "            linear_variables.append(variable)\n",
    "        else:\n",
    "            dnn_grads.append(grad)\n",
    "            dnn_variables.append(variable)\n",
    "    \n",
    "    ftrl.apply_gradients(zip(linear_grads, linear_variables))\n",
    "    adam.apply_gradients(zip(dnn_grads, dnn_variables))\n",
    "    \n",
    "    pred = tf.squeeze(pred, axis=1)\n",
    "    train_auc(y, pred)\n",
    "    train_bce(y, pred)\n",
    "\n",
    "    \n",
    "@tf.function\n",
    "def test_step(x, y):\n",
    "    pred = model(x, training=False)\n",
    "    t_l = loss(y, pred)\n",
    "    pred = tf.squeeze(pred, axis=1)\n",
    "    test_auc(y, pred)\n",
    "    test_bce(y, pred)"
   ]
  },
  {
   "cell_type": "code",
   "execution_count": 41,
   "metadata": {},
   "outputs": [
    {
     "name": "stdout",
     "output_type": "stream",
     "text": [
      "Epoch 1, Loss: 0.488223671913147, AUC: 0.6997932195663452, Test Loss: 0.45875999331474304, Test AUC: 0.7589820623397827\n",
      "Epoch 2, Loss: 0.4196425676345825, AUC: 0.8024817705154419, Test Loss: 0.46547290682792664, Test AUC: 0.7591999769210815\n",
      "Epoch 3, Loss: 0.3509247303009033, AUC: 0.8684833645820618, Test Loss: 0.5258888006210327, Test AUC: 0.7386904358863831\n",
      "Epoch 4, Loss: 0.28236693143844604, AUC: 0.9146637916564941, Test Loss: 0.5852320194244385, Test AUC: 0.7269407510757446\n",
      "Epoch 5, Loss: 0.23238743841648102, AUC: 0.9409314393997192, Test Loss: 0.6542839407920837, Test AUC: 0.7177342176437378\n"
     ]
    }
   ],
   "source": [
    "EPOCHS = 5\n",
    "template = 'Epoch {}, Loss: {}, AUC: {}, Test Loss: {}, Test AUC: {}'\n",
    "\n",
    "for epoch in range(EPOCHS):\n",
    "    train_auc.reset_states()\n",
    "    test_auc.reset_states()\n",
    "    \n",
    "    train_bce.reset_states()\n",
    "    test_bce.reset_states()\n",
    "    \n",
    "    for x, y in train_ds:\n",
    "        train_step(x, y)\n",
    "    \n",
    "    for x, y in val_ds:\n",
    "        test_step(x, y)\n",
    "\n",
    "    print(template.format(epoch+1, train_bce.result(), train_auc.result(), test_bce.result(), test_auc.result()))"
   ]
  },
  {
   "cell_type": "code",
   "execution_count": null,
   "metadata": {},
   "outputs": [],
   "source": []
  },
  {
   "cell_type": "code",
   "execution_count": 42,
   "metadata": {},
   "outputs": [
    {
     "name": "stdout",
     "output_type": "stream",
     "text": [
      "Model: \"wide_and_deep_2\"\n",
      "_________________________________________________________________\n",
      "Layer (type)                 Output Shape              Param #   \n",
      "=================================================================\n",
      "linear (Dense)               multiple                  2841      \n",
      "_________________________________________________________________\n",
      "dense_features_10 (DenseFeat multiple                  1929656   \n",
      "_________________________________________________________________\n",
      "dense_features_11 (DenseFeat multiple                  1929656   \n",
      "_________________________________________________________________\n",
      "dense_8 (Dense)              multiple                  5456      \n",
      "_________________________________________________________________\n",
      "dense_9 (Dense)              multiple                  136       \n",
      "_________________________________________________________________\n",
      "dense_10 (Dense)             multiple                  9         \n",
      "_________________________________________________________________\n",
      "dense_11 (Dense)             multiple                  3         \n",
      "=================================================================\n",
      "Total params: 3,867,757\n",
      "Trainable params: 3,867,757\n",
      "Non-trainable params: 0\n",
      "_________________________________________________________________\n"
     ]
    }
   ],
   "source": [
    "model.summary()"
   ]
  },
  {
   "cell_type": "code",
   "execution_count": 43,
   "metadata": {},
   "outputs": [
    {
     "name": "stdout",
     "output_type": "stream",
     "text": [
      "/bin/sh: 1: tensorboard: not found\n"
     ]
    }
   ],
   "source": [
    "!tensorboard --logdir ./logs"
   ]
  },
  {
   "cell_type": "code",
   "execution_count": null,
   "metadata": {},
   "outputs": [],
   "source": []
  },
  {
   "cell_type": "code",
   "execution_count": null,
   "metadata": {},
   "outputs": [],
   "source": []
  },
  {
   "cell_type": "markdown",
   "metadata": {},
   "source": [
    "## Functional API --未验证"
   ]
  },
  {
   "cell_type": "code",
   "execution_count": 44,
   "metadata": {},
   "outputs": [],
   "source": [
    "# real = {\n",
    "#     colname : tf.feature_column.numeric_column(colname) \n",
    "#           for colname in \n",
    "#             ('dep_delay,taxiout,distance,avg_dep_delay,avg_arr_delay' +\n",
    "#              ',dep_lat,dep_lon,arr_lat,arr_lon').split(',')\n",
    "# }\n",
    "# sparse = {\n",
    "#       'carrier': tf.feature_column.categorical_column_with_vocabulary_list('carrier',\n",
    "#                   vocabulary_list='AS,VX,F9,UA,US,WN,HA,EV,MQ,DL,OO,B6,NK,AA'.split(',')),\n",
    "#       'origin' : tf.feature_column.categorical_column_with_hash_bucket('origin', hash_bucket_size=1000),\n",
    "#       'dest'   : tf.feature_column.categorical_column_with_hash_bucket('dest', hash_bucket_size=1000)\n",
    "# }\n",
    "\n",
    "# inputs = {\n",
    "#     colname : tf.keras.layers.Input(name=colname, shape=(), dtype='float32') \n",
    "#           for colname in real.keys()\n",
    "# }\n",
    "# inputs.update({\n",
    "#     colname : tf.keras.layers.Input(name=colname, shape=(), dtype='string') \n",
    "#           for colname in sparse.keys()\n",
    "# })"
   ]
  },
  {
   "cell_type": "code",
   "execution_count": 49,
   "metadata": {},
   "outputs": [],
   "source": [
    "# NBUCKETS = 100\n",
    "# DNN_HIDDEN_UNITS = [16, 8]"
   ]
  },
  {
   "cell_type": "code",
   "execution_count": 47,
   "metadata": {},
   "outputs": [],
   "source": [
    "# ## 特征处理\n",
    "# latbuckets = np.linspace(20.0, 50.0, NBUCKETS).tolist()  # USA\n",
    "# lonbuckets = np.linspace(-120.0, -70.0, NBUCKETS).tolist() # USA\n",
    "# disc = {}\n",
    "# disc.update({\n",
    "#        'd_{}'.format(key) : tf.feature_column.bucketized_column(real[key], latbuckets) \n",
    "#           for key in ['dep_lat', 'arr_lat']\n",
    "# })\n",
    "# disc.update({\n",
    "#        'd_{}'.format(key) : tf.feature_column.bucketized_column(real[key], lonbuckets) \n",
    "#           for key in ['dep_lon', 'arr_lon']\n",
    "# })\n",
    "\n",
    "# # cross columns that make sense in combination\n",
    "# sparse['dep_loc'] = tf.feature_column.crossed_column([disc['d_dep_lat'], disc['d_dep_lon']], NBUCKETS*NBUCKETS)\n",
    "# sparse['arr_loc'] = tf.feature_column.crossed_column([disc['d_arr_lat'], disc['d_arr_lon']], NBUCKETS*NBUCKETS)\n",
    "# sparse['dep_arr'] = tf.feature_column.crossed_column([sparse['dep_loc'], sparse['arr_loc']], NBUCKETS ** 4)\n",
    "# #sparse['ori_dest'] = tf.feature_column.crossed_column(['origin', 'dest'], hash_bucket_size=1000)\n",
    "\n",
    "# # embed all the sparse columns\n",
    "# embed = {\n",
    "#        'embed_{}'.format(colname) : tf.feature_column.embedding_column(col, 10)\n",
    "#           for colname, col in sparse.items()\n",
    "# }\n",
    "# real.update(embed)\n",
    "\n",
    "# # one-hot encode the sparse columns\n",
    "# sparse = {\n",
    "#     colname : tf.feature_column.indicator_column(col)\n",
    "#           for colname, col in sparse.items()\n",
    "# }"
   ]
  },
  {
   "cell_type": "code",
   "execution_count": null,
   "metadata": {},
   "outputs": [],
   "source": []
  },
  {
   "cell_type": "code",
   "execution_count": 50,
   "metadata": {},
   "outputs": [
    {
     "ename": "ResourceExhaustedError",
     "evalue": "OOM when allocating tensor with shape[100000000,10] and type float on /job:localhost/replica:0/task:0/device:CPU:0 by allocator cpu [Op:Add] name: deep_inputs/arr_lat_bucketized_X_arr_lon_bucketized_X_dep_lat_bucketized_X_dep_lon_bucketized_embedding/embedding_weights/Initializer/truncated_normal/",
     "output_type": "error",
     "traceback": [
      "\u001b[0;31m---------------------------------------------------------------------------\u001b[0m",
      "\u001b[0;31mResourceExhaustedError\u001b[0m                    Traceback (most recent call last)",
      "\u001b[0;32m<ipython-input-50-47451118dae9>\u001b[0m in \u001b[0;36m<module>\u001b[0;34m\u001b[0m\n\u001b[1;32m     18\u001b[0m     \u001b[0mlinear_feature_columns\u001b[0m \u001b[0;34m=\u001b[0m \u001b[0msparse\u001b[0m\u001b[0;34m.\u001b[0m\u001b[0mvalues\u001b[0m\u001b[0;34m(\u001b[0m\u001b[0;34m)\u001b[0m\u001b[0;34m,\u001b[0m\u001b[0;34m\u001b[0m\u001b[0;34m\u001b[0m\u001b[0m\n\u001b[1;32m     19\u001b[0m     \u001b[0mdnn_feature_columns\u001b[0m \u001b[0;34m=\u001b[0m \u001b[0mreal\u001b[0m\u001b[0;34m.\u001b[0m\u001b[0mvalues\u001b[0m\u001b[0;34m(\u001b[0m\u001b[0;34m)\u001b[0m\u001b[0;34m,\u001b[0m\u001b[0;34m\u001b[0m\u001b[0;34m\u001b[0m\u001b[0m\n\u001b[0;32m---> 20\u001b[0;31m     dnn_hidden_units = DNN_HIDDEN_UNITS)\n\u001b[0m\u001b[1;32m     21\u001b[0m \u001b[0mtf\u001b[0m\u001b[0;34m.\u001b[0m\u001b[0mkeras\u001b[0m\u001b[0;34m.\u001b[0m\u001b[0mutils\u001b[0m\u001b[0;34m.\u001b[0m\u001b[0mplot_model\u001b[0m\u001b[0;34m(\u001b[0m\u001b[0mmodel\u001b[0m\u001b[0;34m,\u001b[0m \u001b[0;34m'flights_model.png'\u001b[0m\u001b[0;34m,\u001b[0m \u001b[0mshow_shapes\u001b[0m\u001b[0;34m=\u001b[0m\u001b[0;32mFalse\u001b[0m\u001b[0;34m,\u001b[0m \u001b[0mrankdir\u001b[0m\u001b[0;34m=\u001b[0m\u001b[0;34m'LR'\u001b[0m\u001b[0;34m)\u001b[0m\u001b[0;34m\u001b[0m\u001b[0;34m\u001b[0m\u001b[0m\n",
      "\u001b[0;32m<ipython-input-50-47451118dae9>\u001b[0m in \u001b[0;36mwide_and_deep_classifier\u001b[0;34m(inputs, linear_feature_columns, dnn_feature_columns, dnn_hidden_units)\u001b[0m\n\u001b[1;32m      1\u001b[0m \u001b[0;31m# Build a wide-and-deep model.\u001b[0m\u001b[0;34m\u001b[0m\u001b[0;34m\u001b[0m\u001b[0;34m\u001b[0m\u001b[0m\n\u001b[1;32m      2\u001b[0m \u001b[0;32mdef\u001b[0m \u001b[0mwide_and_deep_classifier\u001b[0m\u001b[0;34m(\u001b[0m\u001b[0minputs\u001b[0m\u001b[0;34m,\u001b[0m \u001b[0mlinear_feature_columns\u001b[0m\u001b[0;34m,\u001b[0m \u001b[0mdnn_feature_columns\u001b[0m\u001b[0;34m,\u001b[0m \u001b[0mdnn_hidden_units\u001b[0m\u001b[0;34m)\u001b[0m\u001b[0;34m:\u001b[0m\u001b[0;34m\u001b[0m\u001b[0;34m\u001b[0m\u001b[0m\n\u001b[0;32m----> 3\u001b[0;31m     \u001b[0mdeep\u001b[0m \u001b[0;34m=\u001b[0m \u001b[0mtf\u001b[0m\u001b[0;34m.\u001b[0m\u001b[0mkeras\u001b[0m\u001b[0;34m.\u001b[0m\u001b[0mlayers\u001b[0m\u001b[0;34m.\u001b[0m\u001b[0mDenseFeatures\u001b[0m\u001b[0;34m(\u001b[0m\u001b[0mdnn_feature_columns\u001b[0m\u001b[0;34m,\u001b[0m \u001b[0mname\u001b[0m\u001b[0;34m=\u001b[0m\u001b[0;34m'deep_inputs'\u001b[0m\u001b[0;34m)\u001b[0m\u001b[0;34m(\u001b[0m\u001b[0minputs\u001b[0m\u001b[0;34m)\u001b[0m\u001b[0;34m\u001b[0m\u001b[0;34m\u001b[0m\u001b[0m\n\u001b[0m\u001b[1;32m      4\u001b[0m     \u001b[0mlayers\u001b[0m \u001b[0;34m=\u001b[0m \u001b[0;34m[\u001b[0m\u001b[0mint\u001b[0m\u001b[0;34m(\u001b[0m\u001b[0mx\u001b[0m\u001b[0;34m)\u001b[0m \u001b[0;32mfor\u001b[0m \u001b[0mx\u001b[0m \u001b[0;32min\u001b[0m \u001b[0mdnn_hidden_units\u001b[0m\u001b[0;34m.\u001b[0m\u001b[0msplit\u001b[0m\u001b[0;34m(\u001b[0m\u001b[0;34m','\u001b[0m\u001b[0;34m)\u001b[0m\u001b[0;34m]\u001b[0m\u001b[0;34m\u001b[0m\u001b[0;34m\u001b[0m\u001b[0m\n\u001b[1;32m      5\u001b[0m     \u001b[0;32mfor\u001b[0m \u001b[0mlayerno\u001b[0m\u001b[0;34m,\u001b[0m \u001b[0mnumnodes\u001b[0m \u001b[0;32min\u001b[0m \u001b[0menumerate\u001b[0m\u001b[0;34m(\u001b[0m\u001b[0mlayers\u001b[0m\u001b[0;34m)\u001b[0m\u001b[0;34m:\u001b[0m\u001b[0;34m\u001b[0m\u001b[0;34m\u001b[0m\u001b[0m\n",
      "\u001b[0;32m~/miniconda3/envs/tf2_gpu/lib/python3.7/site-packages/tensorflow_core/python/keras/engine/base_layer.py\u001b[0m in \u001b[0;36m__call__\u001b[0;34m(self, inputs, *args, **kwargs)\u001b[0m\n\u001b[1;32m    746\u001b[0m           \u001b[0;31m# Build layer if applicable (if the `build` method has been\u001b[0m\u001b[0;34m\u001b[0m\u001b[0;34m\u001b[0m\u001b[0;34m\u001b[0m\u001b[0m\n\u001b[1;32m    747\u001b[0m           \u001b[0;31m# overridden).\u001b[0m\u001b[0;34m\u001b[0m\u001b[0;34m\u001b[0m\u001b[0;34m\u001b[0m\u001b[0m\n\u001b[0;32m--> 748\u001b[0;31m           \u001b[0mself\u001b[0m\u001b[0;34m.\u001b[0m\u001b[0m_maybe_build\u001b[0m\u001b[0;34m(\u001b[0m\u001b[0minputs\u001b[0m\u001b[0;34m)\u001b[0m\u001b[0;34m\u001b[0m\u001b[0;34m\u001b[0m\u001b[0m\n\u001b[0m\u001b[1;32m    749\u001b[0m           \u001b[0mcast_inputs\u001b[0m \u001b[0;34m=\u001b[0m \u001b[0mself\u001b[0m\u001b[0;34m.\u001b[0m\u001b[0m_maybe_cast_inputs\u001b[0m\u001b[0;34m(\u001b[0m\u001b[0minputs\u001b[0m\u001b[0;34m)\u001b[0m\u001b[0;34m\u001b[0m\u001b[0;34m\u001b[0m\u001b[0m\n\u001b[1;32m    750\u001b[0m \u001b[0;34m\u001b[0m\u001b[0m\n",
      "\u001b[0;32m~/miniconda3/envs/tf2_gpu/lib/python3.7/site-packages/tensorflow_core/python/keras/engine/base_layer.py\u001b[0m in \u001b[0;36m_maybe_build\u001b[0;34m(self, inputs)\u001b[0m\n\u001b[1;32m   2114\u001b[0m         \u001b[0;31m# operations.\u001b[0m\u001b[0;34m\u001b[0m\u001b[0;34m\u001b[0m\u001b[0;34m\u001b[0m\u001b[0m\n\u001b[1;32m   2115\u001b[0m         \u001b[0;32mwith\u001b[0m \u001b[0mtf_utils\u001b[0m\u001b[0;34m.\u001b[0m\u001b[0mmaybe_init_scope\u001b[0m\u001b[0;34m(\u001b[0m\u001b[0mself\u001b[0m\u001b[0;34m)\u001b[0m\u001b[0;34m:\u001b[0m\u001b[0;34m\u001b[0m\u001b[0;34m\u001b[0m\u001b[0m\n\u001b[0;32m-> 2116\u001b[0;31m           \u001b[0mself\u001b[0m\u001b[0;34m.\u001b[0m\u001b[0mbuild\u001b[0m\u001b[0;34m(\u001b[0m\u001b[0minput_shapes\u001b[0m\u001b[0;34m)\u001b[0m\u001b[0;34m\u001b[0m\u001b[0;34m\u001b[0m\u001b[0m\n\u001b[0m\u001b[1;32m   2117\u001b[0m       \u001b[0;31m# We must set self.built since user defined build functions are not\u001b[0m\u001b[0;34m\u001b[0m\u001b[0;34m\u001b[0m\u001b[0;34m\u001b[0m\u001b[0m\n\u001b[1;32m   2118\u001b[0m       \u001b[0;31m# constrained to set self.built.\u001b[0m\u001b[0;34m\u001b[0m\u001b[0;34m\u001b[0m\u001b[0;34m\u001b[0m\u001b[0m\n",
      "\u001b[0;32m~/miniconda3/envs/tf2_gpu/lib/python3.7/site-packages/tensorflow_core/python/feature_column/dense_features_v2.py\u001b[0m in \u001b[0;36mbuild\u001b[0;34m(self, _)\u001b[0m\n\u001b[1;32m     90\u001b[0m     \u001b[0;32mfor\u001b[0m \u001b[0mcolumn\u001b[0m \u001b[0;32min\u001b[0m \u001b[0mself\u001b[0m\u001b[0;34m.\u001b[0m\u001b[0m_feature_columns\u001b[0m\u001b[0;34m:\u001b[0m\u001b[0;34m\u001b[0m\u001b[0;34m\u001b[0m\u001b[0m\n\u001b[1;32m     91\u001b[0m       \u001b[0;32mwith\u001b[0m \u001b[0mops\u001b[0m\u001b[0;34m.\u001b[0m\u001b[0mname_scope\u001b[0m\u001b[0;34m(\u001b[0m\u001b[0mcolumn\u001b[0m\u001b[0;34m.\u001b[0m\u001b[0mname\u001b[0m\u001b[0;34m)\u001b[0m\u001b[0;34m:\u001b[0m\u001b[0;34m\u001b[0m\u001b[0;34m\u001b[0m\u001b[0m\n\u001b[0;32m---> 92\u001b[0;31m         \u001b[0mcolumn\u001b[0m\u001b[0;34m.\u001b[0m\u001b[0mcreate_state\u001b[0m\u001b[0;34m(\u001b[0m\u001b[0mself\u001b[0m\u001b[0;34m.\u001b[0m\u001b[0m_state_manager\u001b[0m\u001b[0;34m)\u001b[0m\u001b[0;34m\u001b[0m\u001b[0;34m\u001b[0m\u001b[0m\n\u001b[0m\u001b[1;32m     93\u001b[0m     \u001b[0;31m# We would like to call Layer.build and not _DenseFeaturesHelper.build.\u001b[0m\u001b[0;34m\u001b[0m\u001b[0;34m\u001b[0m\u001b[0;34m\u001b[0m\u001b[0m\n\u001b[1;32m     94\u001b[0m     \u001b[0;31m# pylint: disable=protected-access\u001b[0m\u001b[0;34m\u001b[0m\u001b[0;34m\u001b[0m\u001b[0;34m\u001b[0m\u001b[0m\n",
      "\u001b[0;32m~/miniconda3/envs/tf2_gpu/lib/python3.7/site-packages/tensorflow_core/python/feature_column/feature_column_v2.py\u001b[0m in \u001b[0;36mcreate_state\u001b[0;34m(self, state_manager)\u001b[0m\n\u001b[1;32m   3106\u001b[0m         \u001b[0mtrainable\u001b[0m\u001b[0;34m=\u001b[0m\u001b[0mself\u001b[0m\u001b[0;34m.\u001b[0m\u001b[0mtrainable\u001b[0m\u001b[0;34m,\u001b[0m\u001b[0;34m\u001b[0m\u001b[0;34m\u001b[0m\u001b[0m\n\u001b[1;32m   3107\u001b[0m         \u001b[0muse_resource\u001b[0m\u001b[0;34m=\u001b[0m\u001b[0;32mTrue\u001b[0m\u001b[0;34m,\u001b[0m\u001b[0;34m\u001b[0m\u001b[0;34m\u001b[0m\u001b[0m\n\u001b[0;32m-> 3108\u001b[0;31m         initializer=self.initializer)\n\u001b[0m\u001b[1;32m   3109\u001b[0m \u001b[0;34m\u001b[0m\u001b[0m\n\u001b[1;32m   3110\u001b[0m   def _get_dense_tensor_internal_helper(self, sparse_tensors,\n",
      "\u001b[0;32m~/miniconda3/envs/tf2_gpu/lib/python3.7/site-packages/tensorflow_core/python/feature_column/feature_column_v2.py\u001b[0m in \u001b[0;36mcreate_variable\u001b[0;34m(self, feature_column, name, shape, dtype, trainable, use_resource, initializer)\u001b[0m\n\u001b[1;32m    351\u001b[0m           \u001b[0minitializer\u001b[0m\u001b[0;34m=\u001b[0m\u001b[0minitializer\u001b[0m\u001b[0;34m,\u001b[0m\u001b[0;34m\u001b[0m\u001b[0;34m\u001b[0m\u001b[0m\n\u001b[1;32m    352\u001b[0m           \u001b[0mtrainable\u001b[0m\u001b[0;34m=\u001b[0m\u001b[0mself\u001b[0m\u001b[0;34m.\u001b[0m\u001b[0m_trainable\u001b[0m \u001b[0;32mand\u001b[0m \u001b[0mtrainable\u001b[0m\u001b[0;34m,\u001b[0m\u001b[0;34m\u001b[0m\u001b[0;34m\u001b[0m\u001b[0m\n\u001b[0;32m--> 353\u001b[0;31m           use_resource=use_resource)\n\u001b[0m\u001b[1;32m    354\u001b[0m     \u001b[0;32mif\u001b[0m \u001b[0misinstance\u001b[0m\u001b[0;34m(\u001b[0m\u001b[0mvar\u001b[0m\u001b[0;34m,\u001b[0m \u001b[0mtrackable\u001b[0m\u001b[0;34m.\u001b[0m\u001b[0mTrackable\u001b[0m\u001b[0;34m)\u001b[0m\u001b[0;34m:\u001b[0m\u001b[0;34m\u001b[0m\u001b[0;34m\u001b[0m\u001b[0m\n\u001b[1;32m    355\u001b[0m       \u001b[0mself\u001b[0m\u001b[0;34m.\u001b[0m\u001b[0m_layer\u001b[0m\u001b[0;34m.\u001b[0m\u001b[0m_track_trackable\u001b[0m\u001b[0;34m(\u001b[0m\u001b[0mvar\u001b[0m\u001b[0;34m,\u001b[0m \u001b[0mfeature_column\u001b[0m\u001b[0;34m.\u001b[0m\u001b[0mname\u001b[0m \u001b[0;34m+\u001b[0m \u001b[0;34m'/'\u001b[0m \u001b[0;34m+\u001b[0m \u001b[0mname\u001b[0m\u001b[0;34m)\u001b[0m  \u001b[0;31m# pylint: disable=protected-access\u001b[0m\u001b[0;34m\u001b[0m\u001b[0;34m\u001b[0m\u001b[0m\n",
      "\u001b[0;32m~/miniconda3/envs/tf2_gpu/lib/python3.7/site-packages/tensorflow_core/python/keras/engine/base_layer.py\u001b[0m in \u001b[0;36madd_weight\u001b[0;34m(self, name, shape, dtype, initializer, regularizer, trainable, constraint, partitioner, use_resource, synchronization, aggregation, **kwargs)\u001b[0m\n\u001b[1;32m    444\u001b[0m         \u001b[0msynchronization\u001b[0m\u001b[0;34m=\u001b[0m\u001b[0msynchronization\u001b[0m\u001b[0;34m,\u001b[0m\u001b[0;34m\u001b[0m\u001b[0;34m\u001b[0m\u001b[0m\n\u001b[1;32m    445\u001b[0m         \u001b[0maggregation\u001b[0m\u001b[0;34m=\u001b[0m\u001b[0maggregation\u001b[0m\u001b[0;34m,\u001b[0m\u001b[0;34m\u001b[0m\u001b[0;34m\u001b[0m\u001b[0m\n\u001b[0;32m--> 446\u001b[0;31m         caching_device=caching_device)\n\u001b[0m\u001b[1;32m    447\u001b[0m     \u001b[0mbackend\u001b[0m\u001b[0;34m.\u001b[0m\u001b[0mtrack_variable\u001b[0m\u001b[0;34m(\u001b[0m\u001b[0mvariable\u001b[0m\u001b[0;34m)\u001b[0m\u001b[0;34m\u001b[0m\u001b[0;34m\u001b[0m\u001b[0m\n\u001b[1;32m    448\u001b[0m \u001b[0;34m\u001b[0m\u001b[0m\n",
      "\u001b[0;32m~/miniconda3/envs/tf2_gpu/lib/python3.7/site-packages/tensorflow_core/python/training/tracking/base.py\u001b[0m in \u001b[0;36m_add_variable_with_custom_getter\u001b[0;34m(self, name, shape, dtype, initializer, getter, overwrite, **kwargs_for_getter)\u001b[0m\n\u001b[1;32m    742\u001b[0m         \u001b[0mdtype\u001b[0m\u001b[0;34m=\u001b[0m\u001b[0mdtype\u001b[0m\u001b[0;34m,\u001b[0m\u001b[0;34m\u001b[0m\u001b[0;34m\u001b[0m\u001b[0m\n\u001b[1;32m    743\u001b[0m         \u001b[0minitializer\u001b[0m\u001b[0;34m=\u001b[0m\u001b[0minitializer\u001b[0m\u001b[0;34m,\u001b[0m\u001b[0;34m\u001b[0m\u001b[0;34m\u001b[0m\u001b[0m\n\u001b[0;32m--> 744\u001b[0;31m         **kwargs_for_getter)\n\u001b[0m\u001b[1;32m    745\u001b[0m \u001b[0;34m\u001b[0m\u001b[0m\n\u001b[1;32m    746\u001b[0m     \u001b[0;31m# If we set an initializer and the variable processed it, tracking will not\u001b[0m\u001b[0;34m\u001b[0m\u001b[0;34m\u001b[0m\u001b[0;34m\u001b[0m\u001b[0m\n",
      "\u001b[0;32m~/miniconda3/envs/tf2_gpu/lib/python3.7/site-packages/tensorflow_core/python/keras/engine/base_layer_utils.py\u001b[0m in \u001b[0;36mmake_variable\u001b[0;34m(name, shape, dtype, initializer, trainable, caching_device, validate_shape, constraint, use_resource, collections, synchronization, aggregation, partitioner)\u001b[0m\n\u001b[1;32m    140\u001b[0m       \u001b[0msynchronization\u001b[0m\u001b[0;34m=\u001b[0m\u001b[0msynchronization\u001b[0m\u001b[0;34m,\u001b[0m\u001b[0;34m\u001b[0m\u001b[0;34m\u001b[0m\u001b[0m\n\u001b[1;32m    141\u001b[0m       \u001b[0maggregation\u001b[0m\u001b[0;34m=\u001b[0m\u001b[0maggregation\u001b[0m\u001b[0;34m,\u001b[0m\u001b[0;34m\u001b[0m\u001b[0;34m\u001b[0m\u001b[0m\n\u001b[0;32m--> 142\u001b[0;31m       shape=variable_shape if variable_shape else None)\n\u001b[0m\u001b[1;32m    143\u001b[0m \u001b[0;34m\u001b[0m\u001b[0m\n\u001b[1;32m    144\u001b[0m \u001b[0;34m\u001b[0m\u001b[0m\n",
      "\u001b[0;32m~/miniconda3/envs/tf2_gpu/lib/python3.7/site-packages/tensorflow_core/python/ops/variables.py\u001b[0m in \u001b[0;36m__call__\u001b[0;34m(cls, *args, **kwargs)\u001b[0m\n\u001b[1;32m    256\u001b[0m   \u001b[0;32mdef\u001b[0m \u001b[0m__call__\u001b[0m\u001b[0;34m(\u001b[0m\u001b[0mcls\u001b[0m\u001b[0;34m,\u001b[0m \u001b[0;34m*\u001b[0m\u001b[0margs\u001b[0m\u001b[0;34m,\u001b[0m \u001b[0;34m**\u001b[0m\u001b[0mkwargs\u001b[0m\u001b[0;34m)\u001b[0m\u001b[0;34m:\u001b[0m\u001b[0;34m\u001b[0m\u001b[0;34m\u001b[0m\u001b[0m\n\u001b[1;32m    257\u001b[0m     \u001b[0;32mif\u001b[0m \u001b[0mcls\u001b[0m \u001b[0;32mis\u001b[0m \u001b[0mVariableV1\u001b[0m\u001b[0;34m:\u001b[0m\u001b[0;34m\u001b[0m\u001b[0;34m\u001b[0m\u001b[0m\n\u001b[0;32m--> 258\u001b[0;31m       \u001b[0;32mreturn\u001b[0m \u001b[0mcls\u001b[0m\u001b[0;34m.\u001b[0m\u001b[0m_variable_v1_call\u001b[0m\u001b[0;34m(\u001b[0m\u001b[0;34m*\u001b[0m\u001b[0margs\u001b[0m\u001b[0;34m,\u001b[0m \u001b[0;34m**\u001b[0m\u001b[0mkwargs\u001b[0m\u001b[0;34m)\u001b[0m\u001b[0;34m\u001b[0m\u001b[0;34m\u001b[0m\u001b[0m\n\u001b[0m\u001b[1;32m    259\u001b[0m     \u001b[0;32melif\u001b[0m \u001b[0mcls\u001b[0m \u001b[0;32mis\u001b[0m \u001b[0mVariable\u001b[0m\u001b[0;34m:\u001b[0m\u001b[0;34m\u001b[0m\u001b[0;34m\u001b[0m\u001b[0m\n\u001b[1;32m    260\u001b[0m       \u001b[0;32mreturn\u001b[0m \u001b[0mcls\u001b[0m\u001b[0;34m.\u001b[0m\u001b[0m_variable_v2_call\u001b[0m\u001b[0;34m(\u001b[0m\u001b[0;34m*\u001b[0m\u001b[0margs\u001b[0m\u001b[0;34m,\u001b[0m \u001b[0;34m**\u001b[0m\u001b[0mkwargs\u001b[0m\u001b[0;34m)\u001b[0m\u001b[0;34m\u001b[0m\u001b[0;34m\u001b[0m\u001b[0m\n",
      "\u001b[0;32m~/miniconda3/envs/tf2_gpu/lib/python3.7/site-packages/tensorflow_core/python/ops/variables.py\u001b[0m in \u001b[0;36m_variable_v1_call\u001b[0;34m(cls, initial_value, trainable, collections, validate_shape, caching_device, name, variable_def, dtype, expected_shape, import_scope, constraint, use_resource, synchronization, aggregation, shape)\u001b[0m\n\u001b[1;32m    217\u001b[0m         \u001b[0msynchronization\u001b[0m\u001b[0;34m=\u001b[0m\u001b[0msynchronization\u001b[0m\u001b[0;34m,\u001b[0m\u001b[0;34m\u001b[0m\u001b[0;34m\u001b[0m\u001b[0m\n\u001b[1;32m    218\u001b[0m         \u001b[0maggregation\u001b[0m\u001b[0;34m=\u001b[0m\u001b[0maggregation\u001b[0m\u001b[0;34m,\u001b[0m\u001b[0;34m\u001b[0m\u001b[0;34m\u001b[0m\u001b[0m\n\u001b[0;32m--> 219\u001b[0;31m         shape=shape)\n\u001b[0m\u001b[1;32m    220\u001b[0m \u001b[0;34m\u001b[0m\u001b[0m\n\u001b[1;32m    221\u001b[0m   def _variable_v2_call(cls,\n",
      "\u001b[0;32m~/miniconda3/envs/tf2_gpu/lib/python3.7/site-packages/tensorflow_core/python/ops/variables.py\u001b[0m in \u001b[0;36m<lambda>\u001b[0;34m(**kwargs)\u001b[0m\n\u001b[1;32m    195\u001b[0m                         shape=None):\n\u001b[1;32m    196\u001b[0m     \u001b[0;34m\"\"\"Call on Variable class. Useful to force the signature.\"\"\"\u001b[0m\u001b[0;34m\u001b[0m\u001b[0;34m\u001b[0m\u001b[0m\n\u001b[0;32m--> 197\u001b[0;31m     \u001b[0mprevious_getter\u001b[0m \u001b[0;34m=\u001b[0m \u001b[0;32mlambda\u001b[0m \u001b[0;34m**\u001b[0m\u001b[0mkwargs\u001b[0m\u001b[0;34m:\u001b[0m \u001b[0mdefault_variable_creator\u001b[0m\u001b[0;34m(\u001b[0m\u001b[0;32mNone\u001b[0m\u001b[0;34m,\u001b[0m \u001b[0;34m**\u001b[0m\u001b[0mkwargs\u001b[0m\u001b[0;34m)\u001b[0m\u001b[0;34m\u001b[0m\u001b[0;34m\u001b[0m\u001b[0m\n\u001b[0m\u001b[1;32m    198\u001b[0m     \u001b[0;32mfor\u001b[0m \u001b[0m_\u001b[0m\u001b[0;34m,\u001b[0m \u001b[0mgetter\u001b[0m \u001b[0;32min\u001b[0m \u001b[0mops\u001b[0m\u001b[0;34m.\u001b[0m\u001b[0mget_default_graph\u001b[0m\u001b[0;34m(\u001b[0m\u001b[0;34m)\u001b[0m\u001b[0;34m.\u001b[0m\u001b[0m_variable_creator_stack\u001b[0m\u001b[0;34m:\u001b[0m  \u001b[0;31m# pylint: disable=protected-access\u001b[0m\u001b[0;34m\u001b[0m\u001b[0;34m\u001b[0m\u001b[0m\n\u001b[1;32m    199\u001b[0m       \u001b[0mprevious_getter\u001b[0m \u001b[0;34m=\u001b[0m \u001b[0m_make_getter\u001b[0m\u001b[0;34m(\u001b[0m\u001b[0mgetter\u001b[0m\u001b[0;34m,\u001b[0m \u001b[0mprevious_getter\u001b[0m\u001b[0;34m)\u001b[0m\u001b[0;34m\u001b[0m\u001b[0;34m\u001b[0m\u001b[0m\n",
      "\u001b[0;32m~/miniconda3/envs/tf2_gpu/lib/python3.7/site-packages/tensorflow_core/python/ops/variable_scope.py\u001b[0m in \u001b[0;36mdefault_variable_creator\u001b[0;34m(next_creator, **kwargs)\u001b[0m\n\u001b[1;32m   2594\u001b[0m         \u001b[0msynchronization\u001b[0m\u001b[0;34m=\u001b[0m\u001b[0msynchronization\u001b[0m\u001b[0;34m,\u001b[0m\u001b[0;34m\u001b[0m\u001b[0;34m\u001b[0m\u001b[0m\n\u001b[1;32m   2595\u001b[0m         \u001b[0maggregation\u001b[0m\u001b[0;34m=\u001b[0m\u001b[0maggregation\u001b[0m\u001b[0;34m,\u001b[0m\u001b[0;34m\u001b[0m\u001b[0;34m\u001b[0m\u001b[0m\n\u001b[0;32m-> 2596\u001b[0;31m         shape=shape)\n\u001b[0m\u001b[1;32m   2597\u001b[0m   \u001b[0;32melse\u001b[0m\u001b[0;34m:\u001b[0m\u001b[0;34m\u001b[0m\u001b[0;34m\u001b[0m\u001b[0m\n\u001b[1;32m   2598\u001b[0m     return variables.RefVariable(\n",
      "\u001b[0;32m~/miniconda3/envs/tf2_gpu/lib/python3.7/site-packages/tensorflow_core/python/ops/variables.py\u001b[0m in \u001b[0;36m__call__\u001b[0;34m(cls, *args, **kwargs)\u001b[0m\n\u001b[1;32m    260\u001b[0m       \u001b[0;32mreturn\u001b[0m \u001b[0mcls\u001b[0m\u001b[0;34m.\u001b[0m\u001b[0m_variable_v2_call\u001b[0m\u001b[0;34m(\u001b[0m\u001b[0;34m*\u001b[0m\u001b[0margs\u001b[0m\u001b[0;34m,\u001b[0m \u001b[0;34m**\u001b[0m\u001b[0mkwargs\u001b[0m\u001b[0;34m)\u001b[0m\u001b[0;34m\u001b[0m\u001b[0;34m\u001b[0m\u001b[0m\n\u001b[1;32m    261\u001b[0m     \u001b[0;32melse\u001b[0m\u001b[0;34m:\u001b[0m\u001b[0;34m\u001b[0m\u001b[0;34m\u001b[0m\u001b[0m\n\u001b[0;32m--> 262\u001b[0;31m       \u001b[0;32mreturn\u001b[0m \u001b[0msuper\u001b[0m\u001b[0;34m(\u001b[0m\u001b[0mVariableMetaclass\u001b[0m\u001b[0;34m,\u001b[0m \u001b[0mcls\u001b[0m\u001b[0;34m)\u001b[0m\u001b[0;34m.\u001b[0m\u001b[0m__call__\u001b[0m\u001b[0;34m(\u001b[0m\u001b[0;34m*\u001b[0m\u001b[0margs\u001b[0m\u001b[0;34m,\u001b[0m \u001b[0;34m**\u001b[0m\u001b[0mkwargs\u001b[0m\u001b[0;34m)\u001b[0m\u001b[0;34m\u001b[0m\u001b[0;34m\u001b[0m\u001b[0m\n\u001b[0m\u001b[1;32m    263\u001b[0m \u001b[0;34m\u001b[0m\u001b[0m\n\u001b[1;32m    264\u001b[0m \u001b[0;34m\u001b[0m\u001b[0m\n",
      "\u001b[0;32m~/miniconda3/envs/tf2_gpu/lib/python3.7/site-packages/tensorflow_core/python/ops/resource_variable_ops.py\u001b[0m in \u001b[0;36m__init__\u001b[0;34m(self, initial_value, trainable, collections, validate_shape, caching_device, name, dtype, variable_def, import_scope, constraint, distribute_strategy, synchronization, aggregation, shape)\u001b[0m\n\u001b[1;32m   1409\u001b[0m           \u001b[0maggregation\u001b[0m\u001b[0;34m=\u001b[0m\u001b[0maggregation\u001b[0m\u001b[0;34m,\u001b[0m\u001b[0;34m\u001b[0m\u001b[0;34m\u001b[0m\u001b[0m\n\u001b[1;32m   1410\u001b[0m           \u001b[0mshape\u001b[0m\u001b[0;34m=\u001b[0m\u001b[0mshape\u001b[0m\u001b[0;34m,\u001b[0m\u001b[0;34m\u001b[0m\u001b[0;34m\u001b[0m\u001b[0m\n\u001b[0;32m-> 1411\u001b[0;31m           distribute_strategy=distribute_strategy)\n\u001b[0m\u001b[1;32m   1412\u001b[0m \u001b[0;34m\u001b[0m\u001b[0m\n\u001b[1;32m   1413\u001b[0m   def _init_from_args(self,\n",
      "\u001b[0;32m~/miniconda3/envs/tf2_gpu/lib/python3.7/site-packages/tensorflow_core/python/ops/resource_variable_ops.py\u001b[0m in \u001b[0;36m_init_from_args\u001b[0;34m(self, initial_value, trainable, collections, caching_device, name, dtype, constraint, synchronization, aggregation, distribute_strategy, shape)\u001b[0m\n\u001b[1;32m   1540\u001b[0m           \u001b[0;32mwith\u001b[0m \u001b[0mops\u001b[0m\u001b[0;34m.\u001b[0m\u001b[0mname_scope\u001b[0m\u001b[0;34m(\u001b[0m\u001b[0;34m\"Initializer\"\u001b[0m\u001b[0;34m)\u001b[0m\u001b[0;34m,\u001b[0m \u001b[0mdevice_context_manager\u001b[0m\u001b[0;34m(\u001b[0m\u001b[0;32mNone\u001b[0m\u001b[0;34m)\u001b[0m\u001b[0;34m:\u001b[0m\u001b[0;34m\u001b[0m\u001b[0;34m\u001b[0m\u001b[0m\n\u001b[1;32m   1541\u001b[0m             initial_value = ops.convert_to_tensor(\n\u001b[0;32m-> 1542\u001b[0;31m                 \u001b[0minitial_value\u001b[0m\u001b[0;34m(\u001b[0m\u001b[0;34m)\u001b[0m \u001b[0;32mif\u001b[0m \u001b[0minit_from_fn\u001b[0m \u001b[0;32melse\u001b[0m \u001b[0minitial_value\u001b[0m\u001b[0;34m,\u001b[0m\u001b[0;34m\u001b[0m\u001b[0;34m\u001b[0m\u001b[0m\n\u001b[0m\u001b[1;32m   1543\u001b[0m                 name=\"initial_value\", dtype=dtype)\n\u001b[1;32m   1544\u001b[0m           \u001b[0;32mif\u001b[0m \u001b[0mshape\u001b[0m \u001b[0;32mis\u001b[0m \u001b[0;32mnot\u001b[0m \u001b[0;32mNone\u001b[0m\u001b[0;34m:\u001b[0m\u001b[0;34m\u001b[0m\u001b[0;34m\u001b[0m\u001b[0m\n",
      "\u001b[0;32m~/miniconda3/envs/tf2_gpu/lib/python3.7/site-packages/tensorflow_core/python/keras/engine/base_layer_utils.py\u001b[0m in \u001b[0;36m<lambda>\u001b[0;34m()\u001b[0m\n\u001b[1;32m    120\u001b[0m           (type(init_ops.Initializer), type(init_ops_v2.Initializer))):\n\u001b[1;32m    121\u001b[0m         \u001b[0minitializer\u001b[0m \u001b[0;34m=\u001b[0m \u001b[0minitializer\u001b[0m\u001b[0;34m(\u001b[0m\u001b[0;34m)\u001b[0m\u001b[0;34m\u001b[0m\u001b[0;34m\u001b[0m\u001b[0m\n\u001b[0;32m--> 122\u001b[0;31m       \u001b[0minit_val\u001b[0m \u001b[0;34m=\u001b[0m \u001b[0;32mlambda\u001b[0m\u001b[0;34m:\u001b[0m \u001b[0minitializer\u001b[0m\u001b[0;34m(\u001b[0m\u001b[0mshape\u001b[0m\u001b[0;34m,\u001b[0m \u001b[0mdtype\u001b[0m\u001b[0;34m=\u001b[0m\u001b[0mdtype\u001b[0m\u001b[0;34m)\u001b[0m\u001b[0;34m\u001b[0m\u001b[0;34m\u001b[0m\u001b[0m\n\u001b[0m\u001b[1;32m    123\u001b[0m       \u001b[0mvariable_dtype\u001b[0m \u001b[0;34m=\u001b[0m \u001b[0mdtype\u001b[0m\u001b[0;34m.\u001b[0m\u001b[0mbase_dtype\u001b[0m\u001b[0;34m\u001b[0m\u001b[0;34m\u001b[0m\u001b[0m\n\u001b[1;32m    124\u001b[0m   \u001b[0;32mif\u001b[0m \u001b[0muse_resource\u001b[0m \u001b[0;32mis\u001b[0m \u001b[0;32mNone\u001b[0m\u001b[0;34m:\u001b[0m\u001b[0;34m\u001b[0m\u001b[0;34m\u001b[0m\u001b[0m\n",
      "\u001b[0;32m~/miniconda3/envs/tf2_gpu/lib/python3.7/site-packages/tensorflow_core/python/ops/init_ops.py\u001b[0m in \u001b[0;36m__call__\u001b[0;34m(self, shape, dtype, partition_info)\u001b[0m\n\u001b[1;32m    353\u001b[0m       \u001b[0mdtype\u001b[0m \u001b[0;34m=\u001b[0m \u001b[0mself\u001b[0m\u001b[0;34m.\u001b[0m\u001b[0mdtype\u001b[0m\u001b[0;34m\u001b[0m\u001b[0;34m\u001b[0m\u001b[0m\n\u001b[1;32m    354\u001b[0m     return random_ops.truncated_normal(\n\u001b[0;32m--> 355\u001b[0;31m         shape, self.mean, self.stddev, dtype, seed=self.seed)\n\u001b[0m\u001b[1;32m    356\u001b[0m \u001b[0;34m\u001b[0m\u001b[0m\n\u001b[1;32m    357\u001b[0m   \u001b[0;32mdef\u001b[0m \u001b[0mget_config\u001b[0m\u001b[0;34m(\u001b[0m\u001b[0mself\u001b[0m\u001b[0;34m)\u001b[0m\u001b[0;34m:\u001b[0m\u001b[0;34m\u001b[0m\u001b[0;34m\u001b[0m\u001b[0m\n",
      "\u001b[0;32m~/miniconda3/envs/tf2_gpu/lib/python3.7/site-packages/tensorflow_core/python/ops/random_ops.py\u001b[0m in \u001b[0;36mtruncated_normal\u001b[0;34m(shape, mean, stddev, dtype, seed, name)\u001b[0m\n\u001b[1;32m    175\u001b[0m         shape_tensor, dtype, seed=seed1, seed2=seed2)\n\u001b[1;32m    176\u001b[0m     \u001b[0mmul\u001b[0m \u001b[0;34m=\u001b[0m \u001b[0mrnd\u001b[0m \u001b[0;34m*\u001b[0m \u001b[0mstddev_tensor\u001b[0m\u001b[0;34m\u001b[0m\u001b[0;34m\u001b[0m\u001b[0m\n\u001b[0;32m--> 177\u001b[0;31m     \u001b[0mvalue\u001b[0m \u001b[0;34m=\u001b[0m \u001b[0mmath_ops\u001b[0m\u001b[0;34m.\u001b[0m\u001b[0madd\u001b[0m\u001b[0;34m(\u001b[0m\u001b[0mmul\u001b[0m\u001b[0;34m,\u001b[0m \u001b[0mmean_tensor\u001b[0m\u001b[0;34m,\u001b[0m \u001b[0mname\u001b[0m\u001b[0;34m=\u001b[0m\u001b[0mname\u001b[0m\u001b[0;34m)\u001b[0m\u001b[0;34m\u001b[0m\u001b[0;34m\u001b[0m\u001b[0m\n\u001b[0m\u001b[1;32m    178\u001b[0m     \u001b[0mtensor_util\u001b[0m\u001b[0;34m.\u001b[0m\u001b[0mmaybe_set_static_shape\u001b[0m\u001b[0;34m(\u001b[0m\u001b[0mvalue\u001b[0m\u001b[0;34m,\u001b[0m \u001b[0mshape\u001b[0m\u001b[0;34m)\u001b[0m\u001b[0;34m\u001b[0m\u001b[0;34m\u001b[0m\u001b[0m\n\u001b[1;32m    179\u001b[0m     \u001b[0;32mreturn\u001b[0m \u001b[0mvalue\u001b[0m\u001b[0;34m\u001b[0m\u001b[0;34m\u001b[0m\u001b[0m\n",
      "\u001b[0;32m~/miniconda3/envs/tf2_gpu/lib/python3.7/site-packages/tensorflow_core/python/ops/gen_math_ops.py\u001b[0m in \u001b[0;36madd\u001b[0;34m(x, y, name)\u001b[0m\n\u001b[1;32m    341\u001b[0m         \u001b[0;32mraise\u001b[0m\u001b[0;34m\u001b[0m\u001b[0;34m\u001b[0m\u001b[0m\n\u001b[1;32m    342\u001b[0m     \u001b[0;32mexcept\u001b[0m \u001b[0m_core\u001b[0m\u001b[0;34m.\u001b[0m\u001b[0m_NotOkStatusException\u001b[0m \u001b[0;32mas\u001b[0m \u001b[0me\u001b[0m\u001b[0;34m:\u001b[0m\u001b[0;34m\u001b[0m\u001b[0;34m\u001b[0m\u001b[0m\n\u001b[0;32m--> 343\u001b[0;31m       \u001b[0m_ops\u001b[0m\u001b[0;34m.\u001b[0m\u001b[0mraise_from_not_ok_status\u001b[0m\u001b[0;34m(\u001b[0m\u001b[0me\u001b[0m\u001b[0;34m,\u001b[0m \u001b[0mname\u001b[0m\u001b[0;34m)\u001b[0m\u001b[0;34m\u001b[0m\u001b[0;34m\u001b[0m\u001b[0m\n\u001b[0m\u001b[1;32m    344\u001b[0m   \u001b[0;31m# Add nodes to the TensorFlow graph.\u001b[0m\u001b[0;34m\u001b[0m\u001b[0;34m\u001b[0m\u001b[0;34m\u001b[0m\u001b[0m\n\u001b[1;32m    345\u001b[0m   \u001b[0;32mtry\u001b[0m\u001b[0;34m:\u001b[0m\u001b[0;34m\u001b[0m\u001b[0;34m\u001b[0m\u001b[0m\n",
      "\u001b[0;32m~/miniconda3/envs/tf2_gpu/lib/python3.7/site-packages/tensorflow_core/python/framework/ops.py\u001b[0m in \u001b[0;36mraise_from_not_ok_status\u001b[0;34m(e, name)\u001b[0m\n\u001b[1;32m   6604\u001b[0m   \u001b[0mmessage\u001b[0m \u001b[0;34m=\u001b[0m \u001b[0me\u001b[0m\u001b[0;34m.\u001b[0m\u001b[0mmessage\u001b[0m \u001b[0;34m+\u001b[0m \u001b[0;34m(\u001b[0m\u001b[0;34m\" name: \"\u001b[0m \u001b[0;34m+\u001b[0m \u001b[0mname\u001b[0m \u001b[0;32mif\u001b[0m \u001b[0mname\u001b[0m \u001b[0;32mis\u001b[0m \u001b[0;32mnot\u001b[0m \u001b[0;32mNone\u001b[0m \u001b[0;32melse\u001b[0m \u001b[0;34m\"\"\u001b[0m\u001b[0;34m)\u001b[0m\u001b[0;34m\u001b[0m\u001b[0;34m\u001b[0m\u001b[0m\n\u001b[1;32m   6605\u001b[0m   \u001b[0;31m# pylint: disable=protected-access\u001b[0m\u001b[0;34m\u001b[0m\u001b[0;34m\u001b[0m\u001b[0;34m\u001b[0m\u001b[0m\n\u001b[0;32m-> 6606\u001b[0;31m   \u001b[0msix\u001b[0m\u001b[0;34m.\u001b[0m\u001b[0mraise_from\u001b[0m\u001b[0;34m(\u001b[0m\u001b[0mcore\u001b[0m\u001b[0;34m.\u001b[0m\u001b[0m_status_to_exception\u001b[0m\u001b[0;34m(\u001b[0m\u001b[0me\u001b[0m\u001b[0;34m.\u001b[0m\u001b[0mcode\u001b[0m\u001b[0;34m,\u001b[0m \u001b[0mmessage\u001b[0m\u001b[0;34m)\u001b[0m\u001b[0;34m,\u001b[0m \u001b[0;32mNone\u001b[0m\u001b[0;34m)\u001b[0m\u001b[0;34m\u001b[0m\u001b[0;34m\u001b[0m\u001b[0m\n\u001b[0m\u001b[1;32m   6607\u001b[0m   \u001b[0;31m# pylint: enable=protected-access\u001b[0m\u001b[0;34m\u001b[0m\u001b[0;34m\u001b[0m\u001b[0;34m\u001b[0m\u001b[0m\n\u001b[1;32m   6608\u001b[0m \u001b[0;34m\u001b[0m\u001b[0m\n",
      "\u001b[0;32m~/miniconda3/envs/tf2_gpu/lib/python3.7/site-packages/six.py\u001b[0m in \u001b[0;36mraise_from\u001b[0;34m(value, from_value)\u001b[0m\n",
      "\u001b[0;31mResourceExhaustedError\u001b[0m: OOM when allocating tensor with shape[100000000,10] and type float on /job:localhost/replica:0/task:0/device:CPU:0 by allocator cpu [Op:Add] name: deep_inputs/arr_lat_bucketized_X_arr_lon_bucketized_X_dep_lat_bucketized_X_dep_lon_bucketized_embedding/embedding_weights/Initializer/truncated_normal/"
     ]
    }
   ],
   "source": [
    "# # Build a wide-and-deep model.\n",
    "# def wide_and_deep_classifier(inputs, linear_feature_columns, dnn_feature_columns, dnn_hidden_units):\n",
    "#     deep = tf.keras.layers.DenseFeatures(dnn_feature_columns, name='deep_inputs')(inputs)\n",
    "#     layers = [int(x) for x in dnn_hidden_units.split(',')]\n",
    "#     for layerno, numnodes in enumerate(layers):\n",
    "#         deep = tf.keras.layers.Dense(numnodes, activation='relu', name='dnn_{}'.format(layerno+1))(deep)        \n",
    "#     wide = tf.keras.layers.DenseFeatures(linear_feature_columns, name='wide_inputs')(inputs)\n",
    "#     both = tf.keras.layers.concatenate([deep, wide], name='both')\n",
    "#     output = tf.keras.layers.Dense(1, activation='sigmoid', name='pred')(both)\n",
    "#     model = tf.keras.Model(inputs, output)\n",
    "#     model.compile(optimizer='adam',\n",
    "#                   loss='binary_crossentropy',\n",
    "#                   metrics=['accuracy'])\n",
    "#     return model\n",
    "    \n",
    "# model = wide_and_deep_classifier(\n",
    "#     inputs,\n",
    "#     linear_feature_columns = sparse.values(),\n",
    "#     dnn_feature_columns = real.values(),\n",
    "#     dnn_hidden_units = DNN_HIDDEN_UNITS)\n",
    "\n",
    "# tf.keras.utils.plot_model(model, 'flights_model.png', show_shapes=False, rankdir='LR')"
   ]
  }
 ],
 "metadata": {
  "kernelspec": {
   "display_name": "tf2_gpu",
   "language": "python",
   "name": "tf2_gpu"
  },
  "language_info": {
   "codemirror_mode": {
    "name": "ipython",
    "version": 3
   },
   "file_extension": ".py",
   "mimetype": "text/x-python",
   "name": "python",
   "nbconvert_exporter": "python",
   "pygments_lexer": "ipython3",
   "version": "3.7.6"
  },
  "toc": {
   "base_numbering": 1,
   "nav_menu": {},
   "number_sections": true,
   "sideBar": true,
   "skip_h1_title": false,
   "title_cell": "Table of Contents",
   "title_sidebar": "Contents",
   "toc_cell": false,
   "toc_position": {},
   "toc_section_display": true,
   "toc_window_display": true
  }
 },
 "nbformat": 4,
 "nbformat_minor": 4
}
